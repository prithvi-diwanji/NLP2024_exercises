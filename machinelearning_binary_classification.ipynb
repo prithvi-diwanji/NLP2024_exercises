{
  "nbformat": 4,
  "nbformat_minor": 0,
  "metadata": {
    "colab": {
      "provenance": [],
      "authorship_tag": "ABX9TyOruzImuS1hEJDiyxnt3M5G",
      "include_colab_link": true
    },
    "kernelspec": {
      "name": "python3",
      "display_name": "Python 3"
    },
    "language_info": {
      "name": "python"
    }
  },
  "cells": [
    {
      "cell_type": "markdown",
      "metadata": {
        "id": "view-in-github",
        "colab_type": "text"
      },
      "source": [
        "<a href=\"https://colab.research.google.com/github/prithvi-diwanji/NLP2024_exercises/blob/main/machinelearning_binary_classification.ipynb\" target=\"_parent\"><img src=\"https://colab.research.google.com/assets/colab-badge.svg\" alt=\"Open In Colab\"/></a>"
      ]
    },
    {
      "cell_type": "code",
      "execution_count": 7,
      "metadata": {
        "id": "GSJKO2MkGsAj"
      },
      "outputs": [],
      "source": [
        "#download dataset"
      ]
    },
    {
      "cell_type": "code",
      "source": [
        "#name: news_data.csv\n",
        "#location: https://mitu.co.in/dataset\n",
        "#download and save it current working directory\n",
        "import os\n",
        "os.getcwd()"
      ],
      "metadata": {
        "colab": {
          "base_uri": "https://localhost:8080/",
          "height": 35
        },
        "id": "Uot0MJbtZWIm",
        "outputId": "cd167ab1-1cd7-4484-adeb-ccb28b288dec"
      },
      "execution_count": 8,
      "outputs": [
        {
          "output_type": "execute_result",
          "data": {
            "text/plain": [
              "'/content'"
            ],
            "application/vnd.google.colaboratory.intrinsic+json": {
              "type": "string"
            }
          },
          "metadata": {},
          "execution_count": 8
        }
      ]
    },
    {
      "cell_type": "code",
      "source": [
        "os.listdir(os.getcwd())"
      ],
      "metadata": {
        "colab": {
          "base_uri": "https://localhost:8080/"
        },
        "id": "XZ81s44CZbRl",
        "outputId": "d0759f9d-0892-4ed3-d075-fe8812bde96f"
      },
      "execution_count": 9,
      "outputs": [
        {
          "output_type": "execute_result",
          "data": {
            "text/plain": [
              "['.config', 'news_data.csv', 'sample_data']"
            ]
          },
          "metadata": {},
          "execution_count": 9
        }
      ]
    },
    {
      "cell_type": "code",
      "source": [
        "#what is the meaning of the dataset? very big adata set\n",
        "#classify some new news as fake or not fake?"
      ],
      "metadata": {
        "id": "-ZuB0PtebsVQ"
      },
      "execution_count": 10,
      "outputs": []
    },
    {
      "cell_type": "code",
      "source": [
        "#import all libraries\n",
        "import pandas as pd\n",
        "#visualization libraries\n",
        "import matplotlib.pyplot as plt"
      ],
      "metadata": {
        "id": "5gPTj8tHdoty"
      },
      "execution_count": 11,
      "outputs": []
    },
    {
      "cell_type": "code",
      "source": [
        "#prepare the data perfectly first\n",
        "#read the data\n",
        "df=pd.read_csv('news_data.csv')"
      ],
      "metadata": {
        "id": "goIs1pxReP28"
      },
      "execution_count": 12,
      "outputs": []
    },
    {
      "cell_type": "code",
      "source": [
        "df.shape"
      ],
      "metadata": {
        "id": "Cu4aUn8ieaBV",
        "colab": {
          "base_uri": "https://localhost:8080/"
        },
        "outputId": "f52a9523-f9bd-4e4f-adc5-be97a3908bfb"
      },
      "execution_count": 13,
      "outputs": [
        {
          "output_type": "execute_result",
          "data": {
            "text/plain": [
              "(9900, 2)"
            ]
          },
          "metadata": {},
          "execution_count": 13
        }
      ]
    },
    {
      "cell_type": "code",
      "source": [
        "df.columns"
      ],
      "metadata": {
        "id": "aNxZ5MEceb2T",
        "colab": {
          "base_uri": "https://localhost:8080/"
        },
        "outputId": "53d20518-161d-4e12-cda9-3bc3c3fba561"
      },
      "execution_count": 14,
      "outputs": [
        {
          "output_type": "execute_result",
          "data": {
            "text/plain": [
              "Index(['Text', 'label'], dtype='object')"
            ]
          },
          "metadata": {},
          "execution_count": 14
        }
      ]
    },
    {
      "cell_type": "code",
      "source": [
        "## separate the input and output data first\n",
        "# in supervised learning there a re features and labels\n",
        "features=df['Text'] #input data\n",
        "label=df['label']#outout data\n"
      ],
      "metadata": {
        "id": "6BRO312DegC7"
      },
      "execution_count": 15,
      "outputs": []
    },
    {
      "cell_type": "code",
      "source": [
        "features.head() #x"
      ],
      "metadata": {
        "id": "6WGubHoFfGyc",
        "colab": {
          "base_uri": "https://localhost:8080/"
        },
        "outputId": "a2fee579-6712-49bd-8ff7-d13865eb3e62"
      },
      "execution_count": 16,
      "outputs": [
        {
          "output_type": "execute_result",
          "data": {
            "text/plain": [
              "0     Top Trump Surrogate BRUTALLY Stabs Him In The...\n",
              "1    U.S. conservative leader optimistic of common ...\n",
              "2    Trump proposes U.S. tax overhaul, stirs concer...\n",
              "3     Court Forces Ohio To Allow Millions Of Illega...\n",
              "4    Democrats say Trump agrees to work on immigrat...\n",
              "Name: Text, dtype: object"
            ]
          },
          "metadata": {},
          "execution_count": 16
        }
      ]
    },
    {
      "cell_type": "code",
      "source": [
        "label #y"
      ],
      "metadata": {
        "id": "36FXHc2xfRbb",
        "colab": {
          "base_uri": "https://localhost:8080/"
        },
        "outputId": "46a4a670-20fa-4434-e350-c6eab806bc8b"
      },
      "execution_count": 17,
      "outputs": [
        {
          "output_type": "execute_result",
          "data": {
            "text/plain": [
              "0       Fake\n",
              "1       Real\n",
              "2       Real\n",
              "3       Fake\n",
              "4       Real\n",
              "        ... \n",
              "9895    Fake\n",
              "9896    Real\n",
              "9897    Real\n",
              "9898    Fake\n",
              "9899    Fake\n",
              "Name: label, Length: 9900, dtype: object"
            ]
          },
          "metadata": {},
          "execution_count": 17
        }
      ]
    },
    {
      "cell_type": "code",
      "source": [
        "set(label)"
      ],
      "metadata": {
        "id": "iqRIYtzsfYi0",
        "colab": {
          "base_uri": "https://localhost:8080/"
        },
        "outputId": "68b47115-2820-4352-b517-f295f7ef1dce"
      },
      "execution_count": 18,
      "outputs": [
        {
          "output_type": "execute_result",
          "data": {
            "text/plain": [
              "{'Fake', 'Real'}"
            ]
          },
          "metadata": {},
          "execution_count": 18
        }
      ]
    },
    {
      "cell_type": "code",
      "source": [
        "import seaborn as sns\n",
        "sns.countplot(x=label)"
      ],
      "metadata": {
        "id": "D50yjQ32gW_6",
        "colab": {
          "base_uri": "https://localhost:8080/",
          "height": 466
        },
        "outputId": "7ec66a1c-2072-4b75-a055-db95e08786ca"
      },
      "execution_count": 19,
      "outputs": [
        {
          "output_type": "execute_result",
          "data": {
            "text/plain": [
              "<Axes: xlabel='label', ylabel='count'>"
            ]
          },
          "metadata": {},
          "execution_count": 19
        },
        {
          "output_type": "display_data",
          "data": {
            "text/plain": [
              "<Figure size 640x480 with 1 Axes>"
            ],
            "image/png": "[encoded data removed]"
          },
          "metadata": {}
        }
      ]
    },
    {
      "cell_type": "code",
      "source": [
        "import matplotlib.pyplot as plt"
      ],
      "metadata": {
        "id": "EjMeJhwJggTV"
      },
      "execution_count": 20,
      "outputs": []
    },
    {
      "cell_type": "markdown",
      "source": [
        "Data cleaning"
      ],
      "metadata": {
        "id": "WV2un2hpWwK1"
      }
    },
    {
      "cell_type": "code",
      "source": [
        "## clean the data for training the model"
      ],
      "metadata": {
        "id": "OA5iZn70g7_H"
      },
      "execution_count": 21,
      "outputs": []
    },
    {
      "cell_type": "code",
      "source": [
        "#get packages, tokenize, ....and give keywords\n",
        "#get stopwords/keywords\n",
        "#give weightage using tfid vectorizer"
      ],
      "metadata": {
        "id": "fSMG_WwnWuIN"
      },
      "execution_count": 22,
      "outputs": []
    },
    {
      "cell_type": "code",
      "source": [
        "import nltk\n",
        "nltk.download('punkt')\n",
        "from nltk.tokenize import word_tokenize\n",
        "from nltk.corpus import stopwords\n",
        "from nltk.stem import PorterStemmer"
      ],
      "metadata": {
        "id": "Fm5GcNjtW_FL",
        "colab": {
          "base_uri": "https://localhost:8080/"
        },
        "outputId": "2e1624e9-eae8-4931-e0cf-14141f757b1f"
      },
      "execution_count": 23,
      "outputs": [
        {
          "output_type": "stream",
          "name": "stderr",
          "text": [
            "[nltk_data] Downloading package punkt to /root/nltk_data...\n",
            "[nltk_data]   Unzipping tokenizers/punkt.zip.\n"
          ]
        }
      ]
    },
    {
      "cell_type": "code",
      "source": [
        "#apply tokenizer to a single sentence first and then to the corpus our data"
      ],
      "metadata": {
        "id": "sutVgIDHXMsU"
      },
      "execution_count": 24,
      "outputs": []
    },
    {
      "cell_type": "code",
      "source": [
        "sent= 'Hello friends! How are you? I like Python Programming.'"
      ],
      "metadata": {
        "id": "-yqRpaNwXcMs"
      },
      "execution_count": 25,
      "outputs": []
    },
    {
      "cell_type": "code",
      "source": [
        "#tokenize\n",
        "tokens1 = word_tokenize(sent)"
      ],
      "metadata": {
        "id": "dRAtwc3jXktw"
      },
      "execution_count": 26,
      "outputs": []
    },
    {
      "cell_type": "code",
      "source": [
        "tokens1"
      ],
      "metadata": {
        "id": "LSyM__a2Xqds",
        "colab": {
          "base_uri": "https://localhost:8080/"
        },
        "outputId": "8cf261a7-1eed-4450-8736-50ab0e1ad2e2"
      },
      "execution_count": 27,
      "outputs": [
        {
          "output_type": "execute_result",
          "data": {
            "text/plain": [
              "['Hello',\n",
              " 'friends',\n",
              " '!',\n",
              " 'How',\n",
              " 'are',\n",
              " 'you',\n",
              " '?',\n",
              " 'I',\n",
              " 'like',\n",
              " 'Python',\n",
              " 'Programming',\n",
              " '.']"
            ]
          },
          "metadata": {},
          "execution_count": 27
        }
      ]
    },
    {
      "cell_type": "code",
      "source": [
        "#remove punctuations and get only alphanumeric, get all data in lowercase\n"
      ],
      "metadata": {
        "id": "UiDoBefKX3lt"
      },
      "execution_count": 28,
      "outputs": []
    },
    {
      "cell_type": "code",
      "source": [
        "tokens2 = [x.lower() for x in tokens1 if x.isalpha()]"
      ],
      "metadata": {
        "id": "le6vtkSpYPjT"
      },
      "execution_count": 29,
      "outputs": []
    },
    {
      "cell_type": "code",
      "source": [
        "tokens2"
      ],
      "metadata": {
        "id": "FIfz1OQ6Yith",
        "colab": {
          "base_uri": "https://localhost:8080/"
        },
        "outputId": "5c4be379-99cf-4322-920e-7c216ccae768"
      },
      "execution_count": 30,
      "outputs": [
        {
          "output_type": "execute_result",
          "data": {
            "text/plain": [
              "['hello', 'friends', 'how', 'are', 'you', 'i', 'like', 'python', 'programming']"
            ]
          },
          "metadata": {},
          "execution_count": 30
        }
      ]
    },
    {
      "cell_type": "code",
      "source": [
        "#remove stopwords\n",
        "nltk.download('stopwords')\n",
        "swords = stopwords.words('english')"
      ],
      "metadata": {
        "id": "cZwTSKIMYvZY",
        "colab": {
          "base_uri": "https://localhost:8080/"
        },
        "outputId": "1825a598-db00-4549-8561-55836a5119e0"
      },
      "execution_count": 31,
      "outputs": [
        {
          "output_type": "stream",
          "name": "stderr",
          "text": [
            "[nltk_data] Downloading package stopwords to /root/nltk_data...\n",
            "[nltk_data]   Unzipping corpora/stopwords.zip.\n"
          ]
        }
      ]
    },
    {
      "cell_type": "code",
      "source": [
        "swords"
      ],
      "metadata": {
        "id": "B5OR0VRsYx5A",
        "colab": {
          "base_uri": "https://localhost:8080/"
        },
        "outputId": "96eabb01-e481-4bd1-c750-89e4e67e2199"
      },
      "execution_count": 32,
      "outputs": [
        {
          "output_type": "execute_result",
          "data": {
            "text/plain": [
              "['i',\n",
              " 'me',\n",
              " 'my',\n",
              " 'myself',\n",
              " 'we',\n",
              " 'our',\n",
              " 'ours',\n",
              " 'ourselves',\n",
              " 'you',\n",
              " \"you're\",\n",
              " \"you've\",\n",
              " \"you'll\",\n",
              " \"you'd\",\n",
              " 'your',\n",
              " 'yours',\n",
              " 'yourself',\n",
              " 'yourselves',\n",
              " 'he',\n",
              " 'him',\n",
              " 'his',\n",
              " 'himself',\n",
              " 'she',\n",
              " \"she's\",\n",
              " 'her',\n",
              " 'hers',\n",
              " 'herself',\n",
              " 'it',\n",
              " \"it's\",\n",
              " 'its',\n",
              " 'itself',\n",
              " 'they',\n",
              " 'them',\n",
              " 'their',\n",
              " 'theirs',\n",
              " 'themselves',\n",
              " 'what',\n",
              " 'which',\n",
              " 'who',\n",
              " 'whom',\n",
              " 'this',\n",
              " 'that',\n",
              " \"that'll\",\n",
              " 'these',\n",
              " 'those',\n",
              " 'am',\n",
              " 'is',\n",
              " 'are',\n",
              " 'was',\n",
              " 'were',\n",
              " 'be',\n",
              " 'been',\n",
              " 'being',\n",
              " 'have',\n",
              " 'has',\n",
              " 'had',\n",
              " 'having',\n",
              " 'do',\n",
              " 'does',\n",
              " 'did',\n",
              " 'doing',\n",
              " 'a',\n",
              " 'an',\n",
              " 'the',\n",
              " 'and',\n",
              " 'but',\n",
              " 'if',\n",
              " 'or',\n",
              " 'because',\n",
              " 'as',\n",
              " 'until',\n",
              " 'while',\n",
              " 'of',\n",
              " 'at',\n",
              " 'by',\n",
              " 'for',\n",
              " 'with',\n",
              " 'about',\n",
              " 'against',\n",
              " 'between',\n",
              " 'into',\n",
              " 'through',\n",
              " 'during',\n",
              " 'before',\n",
              " 'after',\n",
              " 'above',\n",
              " 'below',\n",
              " 'to',\n",
              " 'from',\n",
              " 'up',\n",
              " 'down',\n",
              " 'in',\n",
              " 'out',\n",
              " 'on',\n",
              " 'off',\n",
              " 'over',\n",
              " 'under',\n",
              " 'again',\n",
              " 'further',\n",
              " 'then',\n",
              " 'once',\n",
              " 'here',\n",
              " 'there',\n",
              " 'when',\n",
              " 'where',\n",
              " 'why',\n",
              " 'how',\n",
              " 'all',\n",
              " 'any',\n",
              " 'both',\n",
              " 'each',\n",
              " 'few',\n",
              " 'more',\n",
              " 'most',\n",
              " 'other',\n",
              " 'some',\n",
              " 'such',\n",
              " 'no',\n",
              " 'nor',\n",
              " 'not',\n",
              " 'only',\n",
              " 'own',\n",
              " 'same',\n",
              " 'so',\n",
              " 'than',\n",
              " 'too',\n",
              " 'very',\n",
              " 's',\n",
              " 't',\n",
              " 'can',\n",
              " 'will',\n",
              " 'just',\n",
              " 'don',\n",
              " \"don't\",\n",
              " 'should',\n",
              " \"should've\",\n",
              " 'now',\n",
              " 'd',\n",
              " 'll',\n",
              " 'm',\n",
              " 'o',\n",
              " 're',\n",
              " 've',\n",
              " 'y',\n",
              " 'ain',\n",
              " 'aren',\n",
              " \"aren't\",\n",
              " 'couldn',\n",
              " \"couldn't\",\n",
              " 'didn',\n",
              " \"didn't\",\n",
              " 'doesn',\n",
              " \"doesn't\",\n",
              " 'hadn',\n",
              " \"hadn't\",\n",
              " 'hasn',\n",
              " \"hasn't\",\n",
              " 'haven',\n",
              " \"haven't\",\n",
              " 'isn',\n",
              " \"isn't\",\n",
              " 'ma',\n",
              " 'mightn',\n",
              " \"mightn't\",\n",
              " 'mustn',\n",
              " \"mustn't\",\n",
              " 'needn',\n",
              " \"needn't\",\n",
              " 'shan',\n",
              " \"shan't\",\n",
              " 'shouldn',\n",
              " \"shouldn't\",\n",
              " 'wasn',\n",
              " \"wasn't\",\n",
              " 'weren',\n",
              " \"weren't\",\n",
              " 'won',\n",
              " \"won't\",\n",
              " 'wouldn',\n",
              " \"wouldn't\"]"
            ]
          },
          "metadata": {},
          "execution_count": 32
        }
      ]
    },
    {
      "cell_type": "code",
      "source": [
        "tokens3 = [x for x in tokens2 if x not in swords]"
      ],
      "metadata": {
        "id": "55D4CTcRZAeO"
      },
      "execution_count": 33,
      "outputs": []
    },
    {
      "cell_type": "code",
      "source": [
        "tokens3"
      ],
      "metadata": {
        "id": "Mn1rT_jPaDSm",
        "colab": {
          "base_uri": "https://localhost:8080/"
        },
        "outputId": "d0d82fb0-492f-4db8-eddb-129a7efbf212"
      },
      "execution_count": 34,
      "outputs": [
        {
          "output_type": "execute_result",
          "data": {
            "text/plain": [
              "['hello', 'friends', 'like', 'python', 'programming']"
            ]
          },
          "metadata": {},
          "execution_count": 34
        }
      ]
    },
    {
      "cell_type": "code",
      "source": [
        "#remove stems and suffixes, we need stemmer lancaster or porter stemmer\n",
        "ps = PorterStemmer()\n"
      ],
      "metadata": {
        "id": "CDdwqxnLaE_h"
      },
      "execution_count": 35,
      "outputs": []
    },
    {
      "cell_type": "code",
      "source": [
        "tokens4 = [ps.stem(x) for x in tokens3]"
      ],
      "metadata": {
        "id": "x27G7EHLahIm"
      },
      "execution_count": 36,
      "outputs": []
    },
    {
      "cell_type": "code",
      "source": [
        "tokens4"
      ],
      "metadata": {
        "id": "gMshTeg4azaP",
        "colab": {
          "base_uri": "https://localhost:8080/"
        },
        "outputId": "9fcd8690-03aa-47ad-df6a-7a767c6ecaa8"
      },
      "execution_count": 37,
      "outputs": [
        {
          "output_type": "execute_result",
          "data": {
            "text/plain": [
              "['hello', 'friend', 'like', 'python', 'program']"
            ]
          },
          "metadata": {},
          "execution_count": 37
        }
      ]
    },
    {
      "cell_type": "code",
      "source": [
        "#finallly these are the root words we get and this u can apply to any sentence\n",
        "# we want a function to clean the text like above for text cleaning\n",
        "def clean_text(sent):\n",
        "  tokens1 = word_tokenize(sent)\n",
        "  tokens2 = [x.lower() for x in tokens1 if x.isalpha()]\n",
        "  tokens3 = [x for x in tokens2 if x not in swords]\n",
        "  tokens4 = [ps.stem(x) for x in tokens3]\n",
        "  return tokens4\n"
      ],
      "metadata": {
        "id": "C_vFKQCKa3eW"
      },
      "execution_count": 38,
      "outputs": []
    },
    {
      "cell_type": "code",
      "source": [
        "tokens4"
      ],
      "metadata": {
        "id": "PPjoKeRsbMia",
        "colab": {
          "base_uri": "https://localhost:8080/"
        },
        "outputId": "4184011e-bb6f-4a8f-b33b-06d3b4c48a11"
      },
      "execution_count": 39,
      "outputs": [
        {
          "output_type": "execute_result",
          "data": {
            "text/plain": [
              "['hello', 'friend', 'like', 'python', 'program']"
            ]
          },
          "metadata": {},
          "execution_count": 39
        }
      ]
    },
    {
      "cell_type": "code",
      "source": [
        "#apply this function before applying vectorization"
      ],
      "metadata": {
        "id": "S2kz7uurb24Q"
      },
      "execution_count": 40,
      "outputs": []
    },
    {
      "cell_type": "code",
      "source": [
        "clean_text(sent)"
      ],
      "metadata": {
        "id": "jSoqsBv3b-Hr",
        "colab": {
          "base_uri": "https://localhost:8080/"
        },
        "outputId": "06a436af-b947-40da-8094-e44826aa72ac"
      },
      "execution_count": 41,
      "outputs": [
        {
          "output_type": "execute_result",
          "data": {
            "text/plain": [
              "['hello', 'friend', 'like', 'python', 'program']"
            ]
          },
          "metadata": {},
          "execution_count": 41
        }
      ]
    },
    {
      "cell_type": "code",
      "source": [
        "new_sent= 'It was the expected result. They told the same on fields.'"
      ],
      "metadata": {
        "id": "7iyMuL3GcELo"
      },
      "execution_count": 42,
      "outputs": []
    },
    {
      "cell_type": "code",
      "source": [
        "clean_text(new_sent)"
      ],
      "metadata": {
        "id": "gLY--0EDcYDI",
        "colab": {
          "base_uri": "https://localhost:8080/"
        },
        "outputId": "1dadacf6-c8de-4ed8-ea3d-93f5ffb38b36"
      },
      "execution_count": 43,
      "outputs": [
        {
          "output_type": "execute_result",
          "data": {
            "text/plain": [
              "['expect', 'result', 'told', 'field']"
            ]
          },
          "metadata": {},
          "execution_count": 43
        }
      ]
    },
    {
      "cell_type": "code",
      "source": [
        "features[123]"
      ],
      "metadata": {
        "id": "EdVT8igVca_D",
        "colab": {
          "base_uri": "https://localhost:8080/",
          "height": 140
        },
        "outputId": "908be420-4c4d-4572-d2b3-7209c0788cfc"
      },
      "execution_count": 44,
      "outputs": [
        {
          "output_type": "execute_result",
          "data": {
            "text/plain": [
              "' Ranking Dem On House Russia Probe Has EXPLOSIVE News For Trump That Will Have Him Running Scared As everybody who still believes in democracy and true freedom reels from FBI Director James Comey s firing, the media and members of Congress have been frantically working to get the deets on what happened. Rep. Adam Schiff, the ranking member of the House Intelligence Committee (which is conducting its own investigation into Russia), just dropped a truth bomb about Comey, and Trump would be wise to go find a cave and hide in it now.Schiff was asked, on CNN, whether he believes this is a cover-up. He doesn t. He thinks it s something worse: It s a brazen interference with a criminal investigation. After all, the president calls this whole investigation a fake, and here you had an FBI director who was seriously looking into whether Trump associates were colluding with the Russians. The end of his statement to CNN should be particularly jarring to anybody familiar with history. Watch below:Rep. Adam Schiff on firing of FBI Director James Comey:  It s a brazen interference with a criminal investigation  https://t.co/5SXgAuTVBP  CNN (@CNN) May 10, 2017Earlier this year, the White House tried to get the FBI to publicly dispute stories appearing in The New York Times about contacts between Trump s associates and Russian actors. They ve been trying to bend the FBI to their will for a long time, and when Comey wouldn t lie under oath for them, or end his Russia probe, Trump decided to fire him.In fact, Jeff Sessions was actually told to find reasons to fire Comey, and they ve been working on it for at least a week. Trump likely wants someone in that position who ll end that investigation before they discover something really damning. He wants a puppet.If Trump was innocent, the White House wouldn t have been looking for reasons to fire Comey now. Comey may not have even been fired, but if he was, Trump probably would have done it when he took office under the guise of getting a fresh start, as Schiff said to CNN. This is not the behavior of an innocent man.Featured image via Mark Wilson/Getty Images'"
            ],
            "application/vnd.google.colaboratory.intrinsic+json": {
              "type": "string"
            }
          },
          "metadata": {},
          "execution_count": 44
        }
      ]
    },
    {
      "cell_type": "code",
      "source": [
        "clean_text(features[123]) # apply function to any news --our data set input"
      ],
      "metadata": {
        "collapsed": true,
        "id": "6L8CM5Ioc0JD",
        "colab": {
          "base_uri": "https://localhost:8080/"
        },
        "outputId": "741bea82-5bcd-400b-d417-38e2245a0cea"
      },
      "execution_count": 45,
      "outputs": [
        {
          "output_type": "execute_result",
          "data": {
            "text/plain": [
              "['rank',\n",
              " 'dem',\n",
              " 'hous',\n",
              " 'russia',\n",
              " 'probe',\n",
              " 'explos',\n",
              " 'news',\n",
              " 'trump',\n",
              " 'run',\n",
              " 'scare',\n",
              " 'everybodi',\n",
              " 'still',\n",
              " 'believ',\n",
              " 'democraci',\n",
              " 'true',\n",
              " 'freedom',\n",
              " 'reel',\n",
              " 'fbi',\n",
              " 'director',\n",
              " 'jame',\n",
              " 'comey',\n",
              " 'fire',\n",
              " 'media',\n",
              " 'member',\n",
              " 'congress',\n",
              " 'frantic',\n",
              " 'work',\n",
              " 'get',\n",
              " 'deet',\n",
              " 'happen',\n",
              " 'adam',\n",
              " 'schiff',\n",
              " 'rank',\n",
              " 'member',\n",
              " 'hous',\n",
              " 'intellig',\n",
              " 'committe',\n",
              " 'conduct',\n",
              " 'investig',\n",
              " 'russia',\n",
              " 'drop',\n",
              " 'truth',\n",
              " 'bomb',\n",
              " 'comey',\n",
              " 'trump',\n",
              " 'would',\n",
              " 'wise',\n",
              " 'go',\n",
              " 'find',\n",
              " 'cave',\n",
              " 'hide',\n",
              " 'ask',\n",
              " 'cnn',\n",
              " 'whether',\n",
              " 'believ',\n",
              " 'think',\n",
              " 'someth',\n",
              " 'wors',\n",
              " 'brazen',\n",
              " 'interfer',\n",
              " 'crimin',\n",
              " 'investig',\n",
              " 'presid',\n",
              " 'call',\n",
              " 'whole',\n",
              " 'investig',\n",
              " 'fake',\n",
              " 'fbi',\n",
              " 'director',\n",
              " 'serious',\n",
              " 'look',\n",
              " 'whether',\n",
              " 'trump',\n",
              " 'associ',\n",
              " 'collud',\n",
              " 'russian',\n",
              " 'end',\n",
              " 'statement',\n",
              " 'cnn',\n",
              " 'particularli',\n",
              " 'jar',\n",
              " 'anybodi',\n",
              " 'familiar',\n",
              " 'histori',\n",
              " 'watch',\n",
              " 'adam',\n",
              " 'schiff',\n",
              " 'fire',\n",
              " 'fbi',\n",
              " 'director',\n",
              " 'jame',\n",
              " 'comey',\n",
              " 'brazen',\n",
              " 'interfer',\n",
              " 'crimin',\n",
              " 'investig',\n",
              " 'http',\n",
              " 'cnn',\n",
              " 'cnn',\n",
              " 'may',\n",
              " 'year',\n",
              " 'white',\n",
              " 'hous',\n",
              " 'tri',\n",
              " 'get',\n",
              " 'fbi',\n",
              " 'publicli',\n",
              " 'disput',\n",
              " 'stori',\n",
              " 'appear',\n",
              " 'new',\n",
              " 'york',\n",
              " 'time',\n",
              " 'contact',\n",
              " 'trump',\n",
              " 'associ',\n",
              " 'russian',\n",
              " 'actor',\n",
              " 'tri',\n",
              " 'bend',\n",
              " 'fbi',\n",
              " 'long',\n",
              " 'time',\n",
              " 'comey',\n",
              " 'lie',\n",
              " 'oath',\n",
              " 'end',\n",
              " 'russia',\n",
              " 'probe',\n",
              " 'trump',\n",
              " 'decid',\n",
              " 'fire',\n",
              " 'fact',\n",
              " 'jeff',\n",
              " 'session',\n",
              " 'actual',\n",
              " 'told',\n",
              " 'find',\n",
              " 'reason',\n",
              " 'fire',\n",
              " 'comey',\n",
              " 'work',\n",
              " 'least',\n",
              " 'week',\n",
              " 'trump',\n",
              " 'like',\n",
              " 'want',\n",
              " 'someon',\n",
              " 'posit',\n",
              " 'end',\n",
              " 'investig',\n",
              " 'discov',\n",
              " 'someth',\n",
              " 'realli',\n",
              " 'damn',\n",
              " 'want',\n",
              " 'trump',\n",
              " 'innoc',\n",
              " 'white',\n",
              " 'hous',\n",
              " 'look',\n",
              " 'reason',\n",
              " 'fire',\n",
              " 'comey',\n",
              " 'comey',\n",
              " 'may',\n",
              " 'even',\n",
              " 'fire',\n",
              " 'trump',\n",
              " 'probabl',\n",
              " 'would',\n",
              " 'done',\n",
              " 'took',\n",
              " 'offic',\n",
              " 'guis',\n",
              " 'get',\n",
              " 'fresh',\n",
              " 'start',\n",
              " 'schiff',\n",
              " 'said',\n",
              " 'cnn',\n",
              " 'behavior',\n",
              " 'innoc',\n",
              " 'imag',\n",
              " 'via',\n",
              " 'mark',\n",
              " 'imag']"
            ]
          },
          "metadata": {},
          "execution_count": 45
        }
      ]
    },
    {
      "cell_type": "code",
      "source": [],
      "metadata": {
        "id": "NdigllF2c6jV"
      },
      "execution_count": 45,
      "outputs": []
    },
    {
      "cell_type": "markdown",
      "source": [
        "Vectorization TF IDF"
      ],
      "metadata": {
        "id": "16-QQPF6dPLP"
      }
    },
    {
      "cell_type": "code",
      "source": [
        "!pip install scikit-learn\n",
        "#import the class\n",
        "from sklearn.feature_extraction.text import TfidfVectorizer"
      ],
      "metadata": {
        "id": "rmImphUNdQ26",
        "colab": {
          "base_uri": "https://localhost:8080/"
        },
        "outputId": "2bd63d7e-4507-4693-e049-4439f45e8ed8"
      },
      "execution_count": 46,
      "outputs": [
        {
          "output_type": "stream",
          "name": "stdout",
          "text": [
            "Requirement already satisfied: scikit-learn in /usr/local/lib/python3.10/dist-packages (1.2.2)\n",
            "Requirement already satisfied: numpy>=1.17.3 in /usr/local/lib/python3.10/dist-packages (from scikit-learn) (1.25.2)\n",
            "Requirement already satisfied: scipy>=1.3.2 in /usr/local/lib/python3.10/dist-packages (from scikit-learn) (1.11.4)\n",
            "Requirement already satisfied: joblib>=1.1.1 in /usr/local/lib/python3.10/dist-packages (from scikit-learn) (1.4.2)\n",
            "Requirement already satisfied: threadpoolctl>=2.0.0 in /usr/local/lib/python3.10/dist-packages (from scikit-learn) (3.5.0)\n"
          ]
        }
      ]
    },
    {
      "cell_type": "code",
      "source": [
        "#create the object\n",
        "tfidf = TfidfVectorizer(analyzer=clean_text)"
      ],
      "metadata": {
        "id": "Ua0jfSL1dh_Q"
      },
      "execution_count": 47,
      "outputs": []
    },
    {
      "cell_type": "code",
      "source": [
        "#perform the operation\n",
        "features_new = tfidf.fit_transform(features)\n"
      ],
      "metadata": {
        "id": "Td-wJa_Fek9J"
      },
      "execution_count": 48,
      "outputs": []
    },
    {
      "cell_type": "code",
      "source": [
        "features_new.shape"
      ],
      "metadata": {
        "id": "M14XBm1yeuNs",
        "colab": {
          "base_uri": "https://localhost:8080/"
        },
        "outputId": "8070b91f-78c4-46e8-a159-10c8e0128ee7"
      },
      "execution_count": 49,
      "outputs": [
        {
          "output_type": "execute_result",
          "data": {
            "text/plain": [
              "(9900, 33562)"
            ]
          },
          "metadata": {},
          "execution_count": 49
        }
      ]
    },
    {
      "cell_type": "code",
      "source": [
        "len(tfidf.get_feature_names_out())"
      ],
      "metadata": {
        "id": "srTM3n-Hez_B",
        "colab": {
          "base_uri": "https://localhost:8080/"
        },
        "outputId": "dd73f413-b648-4ee6-a086-e6da49dc1310"
      },
      "execution_count": 50,
      "outputs": [
        {
          "output_type": "execute_result",
          "data": {
            "text/plain": [
              "33562"
            ]
          },
          "metadata": {},
          "execution_count": 50
        }
      ]
    },
    {
      "cell_type": "code",
      "source": [
        "#data is expanded and we got the unique columns"
      ],
      "metadata": {
        "id": "ZuJNRMr5fA91"
      },
      "execution_count": 51,
      "outputs": []
    },
    {
      "cell_type": "code",
      "source": [
        "#now logical understanding - one more thing is needed\n",
        "#afte training how to find accuravy of model?\n",
        "# before going to nxt step, evalute the algorithm. we need evaluation methods see ppt"
      ],
      "metadata": {
        "id": "dMvvodtHfjDF"
      },
      "execution_count": 52,
      "outputs": []
    },
    {
      "cell_type": "code",
      "source": [
        "#cross validation - how do i know how algo performs on unknown data?\n",
        "#when new news comes i want to predict if it is real or fake?"
      ],
      "metadata": {
        "id": "NVV6HmOYf3Am"
      },
      "execution_count": 53,
      "outputs": []
    },
    {
      "cell_type": "code",
      "source": [
        "#total number of entries are 33562"
      ],
      "metadata": {
        "id": "hSCAkMFggG1J"
      },
      "execution_count": 54,
      "outputs": []
    },
    {
      "cell_type": "code",
      "source": [],
      "metadata": {
        "id": "wrsaVAqHjIkM"
      },
      "execution_count": 54,
      "outputs": []
    },
    {
      "cell_type": "markdown",
      "source": [
        "Cross validation"
      ],
      "metadata": {
        "id": "UW48zN1-jJMT"
      }
    },
    {
      "cell_type": "code",
      "source": [
        "#import the function\n",
        "from sklearn.model_selection import train_test_split"
      ],
      "metadata": {
        "id": "ZR2jCvuWjLHT"
      },
      "execution_count": 55,
      "outputs": []
    },
    {
      "cell_type": "code",
      "source": [
        "#perform cross validation\n",
        "x_train, x_test, y_train, y_test = train_test_split(features_new, label, random_state=0)"
      ],
      "metadata": {
        "id": "0J3CgenpjTe0"
      },
      "execution_count": 56,
      "outputs": []
    },
    {
      "cell_type": "code",
      "source": [
        "x_train.shape"
      ],
      "metadata": {
        "id": "dWNDT_VJjiKn",
        "colab": {
          "base_uri": "https://localhost:8080/"
        },
        "outputId": "635100f0-b2ee-4682-89e0-f098afdf1a81"
      },
      "execution_count": 57,
      "outputs": [
        {
          "output_type": "execute_result",
          "data": {
            "text/plain": [
              "(7425, 33562)"
            ]
          },
          "metadata": {},
          "execution_count": 57
        }
      ]
    },
    {
      "cell_type": "code",
      "source": [
        "x_test.shape"
      ],
      "metadata": {
        "id": "7B79lBYgjn6w",
        "colab": {
          "base_uri": "https://localhost:8080/"
        },
        "outputId": "65870414-3f6e-4028-86aa-389334c0462f"
      },
      "execution_count": 58,
      "outputs": [
        {
          "output_type": "execute_result",
          "data": {
            "text/plain": [
              "(2475, 33562)"
            ]
          },
          "metadata": {},
          "execution_count": 58
        }
      ]
    },
    {
      "cell_type": "code",
      "source": [
        "#we have split the data"
      ],
      "metadata": {
        "id": "A_4YElYnjwqr"
      },
      "execution_count": 59,
      "outputs": []
    },
    {
      "cell_type": "code",
      "source": [
        "y_train.shape"
      ],
      "metadata": {
        "id": "0MJhZQaFlCMw",
        "colab": {
          "base_uri": "https://localhost:8080/"
        },
        "outputId": "f9a8fc49-2a1e-41c9-9b34-12672d8ff88d"
      },
      "execution_count": 60,
      "outputs": [
        {
          "output_type": "execute_result",
          "data": {
            "text/plain": [
              "(7425,)"
            ]
          },
          "metadata": {},
          "execution_count": 60
        }
      ]
    },
    {
      "cell_type": "code",
      "source": [
        "y_test.shape"
      ],
      "metadata": {
        "id": "H0y7y_aylITr",
        "colab": {
          "base_uri": "https://localhost:8080/"
        },
        "outputId": "a0f48076-02a0-429f-e9bc-2f216f940f95"
      },
      "execution_count": 61,
      "outputs": [
        {
          "output_type": "execute_result",
          "data": {
            "text/plain": [
              "(2475,)"
            ]
          },
          "metadata": {},
          "execution_count": 61
        }
      ]
    },
    {
      "cell_type": "code",
      "source": [
        "#machine learning logic is present in sklearn"
      ],
      "metadata": {
        "id": "9b0j_45mlKU4"
      },
      "execution_count": 62,
      "outputs": []
    },
    {
      "cell_type": "code",
      "source": [
        "#now we train using logic , build the model"
      ],
      "metadata": {
        "id": "UwN7sxzDloDK"
      },
      "execution_count": 63,
      "outputs": []
    },
    {
      "cell_type": "code",
      "source": [
        "#build the decision tree algorithm model on the trainign data"
      ],
      "metadata": {
        "id": "6VH62IMxluED"
      },
      "execution_count": 64,
      "outputs": []
    },
    {
      "cell_type": "code",
      "source": [
        "#import the class\n",
        "from sklearn.tree import DecisionTreeClassifier"
      ],
      "metadata": {
        "id": "3qPx0vIQlzUd"
      },
      "execution_count": 65,
      "outputs": []
    },
    {
      "cell_type": "code",
      "source": [
        "#crete the object\n",
        "dt=DecisionTreeClassifier(random_state=0)\n"
      ],
      "metadata": {
        "id": "RKbIPJNOl6dr"
      },
      "execution_count": 66,
      "outputs": []
    },
    {
      "cell_type": "code",
      "source": [
        "#train the data\n",
        "dt.fit(x_train, y_train)"
      ],
      "metadata": {
        "id": "73mX2cDln0_b",
        "colab": {
          "base_uri": "https://localhost:8080/",
          "height": 75
        },
        "outputId": "325f6585-143a-477e-fe34-953c28565782"
      },
      "execution_count": 67,
      "outputs": [
        {
          "output_type": "execute_result",
          "data": {
            "text/plain": [
              "DecisionTreeClassifier(random_state=0)"
            ],
            "text/html": [
              "<style>#sk-container-id-1 {color: black;background-color: white;}#sk-container-id-1 pre{padding: 0;}#sk-container-id-1 div.sk-toggleable {background-color: white;}#sk-container-id-1 label.sk-toggleable__label {cursor: pointer;display: block;width: 100%;margin-bottom: 0;padding: 0.3em;box-sizing: border-box;text-align: center;}#sk-container-id-1 label.sk-toggleable__label-arrow:before {content: \"▸\";float: left;margin-right: 0.25em;color: #696969;}#sk-container-id-1 label.sk-toggleable__label-arrow:hover:before {color: black;}#sk-container-id-1 div.sk-estimator:hover label.sk-toggleable__label-arrow:before {color: black;}#sk-container-id-1 div.sk-toggleable__content {max-height: 0;max-width: 0;overflow: hidden;text-align: left;background-color: #f0f8ff;}#sk-container-id-1 div.sk-toggleable__content pre {margin: 0.2em;color: black;border-radius: 0.25em;background-color: #f0f8ff;}#sk-container-id-1 input.sk-toggleable__control:checked~div.sk-toggleable__content {max-height: 200px;max-width: 100%;overflow: auto;}#sk-container-id-1 input.sk-toggleable__control:checked~label.sk-toggleable__label-arrow:before {content: \"▾\";}#sk-container-id-1 div.sk-estimator input.sk-toggleable__control:checked~label.sk-toggleable__label {background-color: #d4ebff;}#sk-container-id-1 div.sk-label input.sk-toggleable__control:checked~label.sk-toggleable__label {background-color: #d4ebff;}#sk-container-id-1 input.sk-hidden--visually {border: 0;clip: rect(1px 1px 1px 1px);clip: rect(1px, 1px, 1px, 1px);height: 1px;margin: -1px;overflow: hidden;padding: 0;position: absolute;width: 1px;}#sk-container-id-1 div.sk-estimator {font-family: monospace;background-color: #f0f8ff;border: 1px dotted black;border-radius: 0.25em;box-sizing: border-box;margin-bottom: 0.5em;}#sk-container-id-1 div.sk-estimator:hover {background-color: #d4ebff;}#sk-container-id-1 div.sk-parallel-item::after {content: \"\";width: 100%;border-bottom: 1px solid gray;flex-grow: 1;}#sk-container-id-1 div.sk-label:hover label.sk-toggleable__label {background-color: #d4ebff;}#sk-container-id-1 div.sk-serial::before {content: \"\";position: absolute;border-left: 1px solid gray;box-sizing: border-box;top: 0;bottom: 0;left: 50%;z-index: 0;}#sk-container-id-1 div.sk-serial {display: flex;flex-direction: column;align-items: center;background-color: white;padding-right: 0.2em;padding-left: 0.2em;position: relative;}#sk-container-id-1 div.sk-item {position: relative;z-index: 1;}#sk-container-id-1 div.sk-parallel {display: flex;align-items: stretch;justify-content: center;background-color: white;position: relative;}#sk-container-id-1 div.sk-item::before, #sk-container-id-1 div.sk-parallel-item::before {content: \"\";position: absolute;border-left: 1px solid gray;box-sizing: border-box;top: 0;bottom: 0;left: 50%;z-index: -1;}#sk-container-id-1 div.sk-parallel-item {display: flex;flex-direction: column;z-index: 1;position: relative;background-color: white;}#sk-container-id-1 div.sk-parallel-item:first-child::after {align-self: flex-end;width: 50%;}#sk-container-id-1 div.sk-parallel-item:last-child::after {align-self: flex-start;width: 50%;}#sk-container-id-1 div.sk-parallel-item:only-child::after {width: 0;}#sk-container-id-1 div.sk-dashed-wrapped {border: 1px dashed gray;margin: 0 0.4em 0.5em 0.4em;box-sizing: border-box;padding-bottom: 0.4em;background-color: white;}#sk-container-id-1 div.sk-label label {font-family: monospace;font-weight: bold;display: inline-block;line-height: 1.2em;}#sk-container-id-1 div.sk-label-container {text-align: center;}#sk-container-id-1 div.sk-container {/* jupyter's `normalize.less` sets `[hidden] { display: none; }` but bootstrap.min.css set `[hidden] { display: none !important; }` so we also need the `!important` here to be able to override the default hidden behavior on the sphinx rendered scikit-learn.org. See: https://github.com/scikit-learn/scikit-learn/issues/21755 */display: inline-block !important;position: relative;}#sk-container-id-1 div.sk-text-repr-fallback {display: none;}</style><div id=\"sk-container-id-1\" class=\"sk-top-container\"><div class=\"sk-text-repr-fallback\"><pre>DecisionTreeClassifier(random_state=0)</pre><b>In a Jupyter environment, please rerun this cell to show the HTML representation or trust the notebook. <br />On GitHub, the HTML representation is unable to render, please try loading this page with nbviewer.org.</b></div><div class=\"sk-container\" hidden><div class=\"sk-item\"><div class=\"sk-estimator sk-toggleable\"><input class=\"sk-toggleable__control sk-hidden--visually\" id=\"sk-estimator-id-1\" type=\"checkbox\" checked><label for=\"sk-estimator-id-1\" class=\"sk-toggleable__label sk-toggleable__label-arrow\">DecisionTreeClassifier</label><div class=\"sk-toggleable__content\"><pre>DecisionTreeClassifier(random_state=0)</pre></div></div></div></div></div>"
            ]
          },
          "metadata": {},
          "execution_count": 67
        }
      ]
    },
    {
      "cell_type": "code",
      "source": [
        "from sklearn.tree import plot_tree"
      ],
      "metadata": {
        "id": "c6RI5-ZYn6qu"
      },
      "execution_count": 68,
      "outputs": []
    },
    {
      "cell_type": "code",
      "source": [
        "plt.figure(figsize=(12,8))\n",
        "plot_tree(dt,fontsize=7);"
      ],
      "metadata": {
        "id": "gS7wwW9Ao3y_",
        "colab": {
          "base_uri": "https://localhost:8080/",
          "height": 653
        },
        "outputId": "0da46510-cb39-48c0-de00-916e70253b13"
      },
      "execution_count": 78,
      "outputs": [
        {
          "output_type": "display_data",
          "data": {
            "text/plain": [
              "<Figure size 1200x800 with 1 Axes>"
            ],
            "image/png": "[encoded data removed]"
          },
          "metadata": {}
        }
      ]
    },
    {
      "cell_type": "code",
      "source": [
        "#what does the feature look like?\n",
        "tfidf.get_feature_names_out()[9696] - example with 9696"
      ],
      "metadata": {
        "colab": {
          "base_uri": "https://localhost:8080/",
          "height": 35
        },
        "id": "HNekWOAGdMoY",
        "outputId": "56503508-bb8f-4cf1-b1fa-45d4fcc53320"
      },
      "execution_count": 81,
      "outputs": [
        {
          "output_type": "execute_result",
          "data": {
            "text/plain": [
              "'factbox'"
            ],
            "application/vnd.google.colaboratory.intrinsic+json": {
              "type": "string"
            }
          },
          "metadata": {},
          "execution_count": 81
        }
      ]
    },
    {
      "cell_type": "code",
      "source": [
        "#how accurate is this model? check 2475 test data"
      ],
      "metadata": {
        "id": "iYVvta2fo6vE"
      },
      "execution_count": 70,
      "outputs": []
    },
    {
      "cell_type": "code",
      "source": [
        "## performance evaluation"
      ],
      "metadata": {
        "id": "c-op2R2YpMlE"
      },
      "execution_count": 71,
      "outputs": []
    },
    {
      "cell_type": "code",
      "source": [
        "#predict the result on test data\n",
        "y_pred =dt.predict(x_test)"
      ],
      "metadata": {
        "id": "UUMhP7neplLR"
      },
      "execution_count": 72,
      "outputs": []
    },
    {
      "cell_type": "code",
      "source": [
        "y_pred"
      ],
      "metadata": {
        "id": "3-wY62-SpogQ",
        "colab": {
          "base_uri": "https://localhost:8080/"
        },
        "outputId": "720fcc1b-cad6-4c01-d785-74b90768efab"
      },
      "execution_count": 73,
      "outputs": [
        {
          "output_type": "execute_result",
          "data": {
            "text/plain": [
              "array(['Fake', 'Fake', 'Fake', ..., 'Fake', 'Fake', 'Fake'], dtype=object)"
            ]
          },
          "metadata": {},
          "execution_count": 73
        }
      ]
    },
    {
      "cell_type": "code",
      "source": [
        "len(y_pred)"
      ],
      "metadata": {
        "id": "GNJdHrcvp3yd",
        "colab": {
          "base_uri": "https://localhost:8080/"
        },
        "outputId": "ffcd870d-ce2d-41b8-bd6a-472e0d0dabba"
      },
      "execution_count": 74,
      "outputs": [
        {
          "output_type": "execute_result",
          "data": {
            "text/plain": [
              "2475"
            ]
          },
          "metadata": {},
          "execution_count": 74
        }
      ]
    },
    {
      "cell_type": "code",
      "source": [
        "#match y pred with y test"
      ],
      "metadata": {
        "id": "TI_AEBZtp7XI"
      },
      "execution_count": 75,
      "outputs": []
    },
    {
      "cell_type": "markdown",
      "source": [
        "Confusion Matrix - how many fasle postive and false negative as a matxi"
      ],
      "metadata": {
        "id": "UKqJzRrleeBL"
      }
    },
    {
      "cell_type": "code",
      "source": [
        "#import the class\n",
        "from sklearn.metrics import ConfusionMatrixDisplay"
      ],
      "metadata": {
        "id": "nW76q_kfqjnj"
      },
      "execution_count": 82,
      "outputs": []
    },
    {
      "cell_type": "code",
      "source": [
        "#show the matrix\n",
        "ConfusionMatrixDisplay.from_predictions(y_test, y_pred);"
      ],
      "metadata": {
        "colab": {
          "base_uri": "https://localhost:8080/",
          "height": 449
        },
        "id": "nFN9xXnvgDy9",
        "outputId": "069ca5bd-ab96-4205-a0f9-959f116ed53f"
      },
      "execution_count": 83,
      "outputs": [
        {
          "output_type": "display_data",
          "data": {
            "text/plain": [
              "<Figure size 640x480 with 2 Axes>"
            ],
            "image/png": "[encoded data removed]"
          },
          "metadata": {}
        }
      ]
    },
    {
      "cell_type": "code",
      "source": [
        "(1269+1199)/2475"
      ],
      "metadata": {
        "colab": {
          "base_uri": "https://localhost:8080/"
        },
        "id": "JkUjPWQLgNOY",
        "outputId": "6394372d-c1cd-417c-bdc1-89c07f383f89"
      },
      "execution_count": 84,
      "outputs": [
        {
          "output_type": "execute_result",
          "data": {
            "text/plain": [
              "0.9971717171717172"
            ]
          },
          "metadata": {},
          "execution_count": 84
        }
      ]
    },
    {
      "cell_type": "code",
      "source": [
        "#fake class recall\n",
        "1269/1273"
      ],
      "metadata": {
        "colab": {
          "base_uri": "https://localhost:8080/"
        },
        "id": "yP24jFKPhUW_",
        "outputId": "7c8792f7-63dc-453f-e569-3f4acf78f5c1"
      },
      "execution_count": 87,
      "outputs": [
        {
          "output_type": "execute_result",
          "data": {
            "text/plain": [
              "0.9968578161822467"
            ]
          },
          "metadata": {},
          "execution_count": 87
        }
      ]
    },
    {
      "cell_type": "code",
      "source": [
        "#real class recall\n",
        "1199/1202"
      ],
      "metadata": {
        "colab": {
          "base_uri": "https://localhost:8080/"
        },
        "id": "cEktGZ__hjA8",
        "outputId": "7395f978-6f91-4502-bb6e-be22b051130c"
      },
      "execution_count": 88,
      "outputs": [
        {
          "output_type": "execute_result",
          "data": {
            "text/plain": [
              "0.997504159733777"
            ]
          },
          "metadata": {},
          "execution_count": 88
        }
      ]
    },
    {
      "cell_type": "code",
      "source": [
        "#if new  news comes unseen data what is the prediction on new news? perform predictions on it?\n",
        "#use sample news.txt file as test file\n"
      ],
      "metadata": {
        "id": "BU83DZP8h4p3"
      },
      "execution_count": 89,
      "outputs": []
    },
    {
      "cell_type": "code",
      "source": [
        "#open the file\n",
        "f=open('sample_news.txt')"
      ],
      "metadata": {
        "id": "kMwqMeriiIIH"
      },
      "execution_count": 91,
      "outputs": []
    },
    {
      "cell_type": "code",
      "source": [
        "news=f.readlines()"
      ],
      "metadata": {
        "id": "22PZkqH2iZ56"
      },
      "execution_count": 92,
      "outputs": []
    },
    {
      "cell_type": "code",
      "source": [
        "news"
      ],
      "metadata": {
        "colab": {
          "base_uri": "https://localhost:8080/"
        },
        "collapsed": true,
        "id": "tR90rrlpik0E",
        "outputId": "d088e49f-afa8-4a8c-b760-96454e6f0605"
      },
      "execution_count": 97,
      "outputs": [
        {
          "output_type": "execute_result",
          "data": {
            "text/plain": [
              "['\" Donald Trump’s ‘Charity’ Foundation Is About To Be Shut The F**k Down NATIONWIDE Things really aren t looking too great for Donald Trump s charity foundation. With recent developments prohibiting the Trump Foundation from soliciting funds in New York state, it s now looking like a good majority of states may be following suit.The Trump Foundation has also been being looked at by the Attorney General for how it is getting and spending funds, especially after what happen with veterans organizations earlier this year.According to The Daily Beast: To make matters worse for the Trump Foundation, the probe may not be limited to New York: Charity experts and lawyers tell The Daily Beast that the attorneys general of other states may soon get involved in a long, drawn-out process.All major charities are required to register with 41 different states across the nation in order to individually request permission to fundraise. When Trump raised money for veterans, he may have broken the rules in dozens of states. The president of the National Committee for Responsible Philanthropy, Aaron Dorfman, stated: The Trump Foundation would be required to file similar paperwork with the attorneys generals of nearly every other state, and they could all take similar action. It is likely that other states will follow suit and they will be issued cease and desist orders denying them fundraising privileges in other states. That is the most likely next step. This is not good news for Trump who keeps trying to pivot to slamming Hillary Clinton s Clinton Foundation. You know, the one that helps fight AIDS in nations globally.Trump, of course, likes to pretend that he s holier than thou, which might explain why Trump Foundation money was used to buy pictures of, well, himself.And according to Real Clear Politics: From 2011 through 2014, Trump harnessed his eponymous foundation to send at least $286,000 to influential conservative or policy groups, a RealClearPolitics review of the foundation s tax filings found. In many cases, this flow of money corresponded to prime speaking slots or endorsements that aided Trump as he sought to recast himself as a plausible Republican candidate for president. Finding out Trump is a scam artist using a shell charity with his same name really should come as no surprise. Especially to fund his political ambitions of grandeur. However, it will be interesting to see how this story develops as the November election draws nearer.Featured Photo by Scott Olson/Getty Images\"\\n',\n",
              " '\"U.S. environmental agency chief says humans contribute to global warming WASHINGTON (Reuters) - The head of the U.S. Environmental Protection Agency, Scott Pruitt, said on Friday he believes human activity plays a role in global warming, but measuring that contribution with precision is difficult. Speaking to reporters at the White House a day after President Donald Trump said he would withdraw the United States  from the Paris climate accord, Pruitt declined to directly answer questions about whether the president still believed global warming was a hoax, as he had said during the 2016 presidential campaign Pruitt said he had indicated that global warming is occurring, and that “human activity contributes to it in some manner. Measuring with precision, from my perspective, the degree of human contribution is very challenging.” \"\\n',\n",
              " '\" Golden State Warriors Coach Just WRECKED Trump After Attack On One Of His Players On Saturday, the man we re forced to call  President  Trump responded to Golden State Warriors star Stephen Curry s refusal to accept an invitation to the White House by doing the internet equivalent of incoherently screeching  WELL FINE,  YOU RE NOT INVITED ANYWAY. Going to the White House is considered a great honor for a championship team.Stephen Curry is hesitating,therefore invitation is withdrawn!  Donald J. Trump (@realDonaldTrump) September 23, 2017Unfortunately for Trump, Warriors coach Steve Kerr has Curry s back. The idea of civil discourse with a guy who is tweeting and demeaning people and saying the things he s saying is sort of far-fetched,  Kerr said on Sunday.  Can you picture us really having a civil discourse with him? It was an actual chance to talk to the president,  he said.  After all, he works for us. He s a public servant. He may not be aware of that, but he is a public servant, right? So maybe as NBA champions, as people in a prominent position, we could go in and say,  This is what s bothering us, what can we do about this?\\'  Then he laid in to Trump for attacking black football players for exercising their First Amendment rights while calling Nazis  very fine people: How about the irony of  Free speech is fine if you re a neo-Nazi chanting hate slogans, but free speech is not allowed to kneel in protest?  No matter how many times a football player says,  I honor our military, but I m protesting police brutality and racial inequality,  it doesn t matter. Nationalists are saying,  You re disrespecting our flag.  Well, you know what else is disrespectful to our flag? Racism. And one s way worse than the other. Trump is a constant embarrassment to our country.Watch Kerr rip him apart below:Featured image via video screen capture\"\\n']"
            ]
          },
          "metadata": {},
          "execution_count": 97
        }
      ]
    },
    {
      "cell_type": "code",
      "source": [
        "#predict function but vectorize the file first"
      ],
      "metadata": {
        "id": "5pBi8o_CimWp"
      },
      "execution_count": 98,
      "outputs": []
    },
    {
      "cell_type": "code",
      "source": [
        "tfidf.transform(news)"
      ],
      "metadata": {
        "colab": {
          "base_uri": "https://localhost:8080/"
        },
        "id": "Oj2yzwVHjS6w",
        "outputId": "3c592809-aff3-43f2-dfc0-b2f7b14faa65"
      },
      "execution_count": 99,
      "outputs": [
        {
          "output_type": "execute_result",
          "data": {
            "text/plain": [
              "<3x33562 sparse matrix of type '<class 'numpy.float64'>'\n",
              "\twith 325 stored elements in Compressed Sparse Row format>"
            ]
          },
          "metadata": {},
          "execution_count": 99
        }
      ]
    },
    {
      "cell_type": "code",
      "source": [
        "dt.predict(tfidf.transform(news))"
      ],
      "metadata": {
        "colab": {
          "base_uri": "https://localhost:8080/"
        },
        "id": "sX35EDOHjdzV",
        "outputId": "04112349-89bc-4901-e552-d999a53f9c59"
      },
      "execution_count": 100,
      "outputs": [
        {
          "output_type": "execute_result",
          "data": {
            "text/plain": [
              "array(['Fake', 'Real', 'Fake'], dtype=object)"
            ]
          },
          "metadata": {},
          "execution_count": 100
        }
      ]
    },
    {
      "cell_type": "code",
      "source": [
        "len(news)"
      ],
      "metadata": {
        "colab": {
          "base_uri": "https://localhost:8080/"
        },
        "id": "xievMyV7jpE8",
        "outputId": "2ba3761f-b792-4ff9-9cca-7e45aad7fa7a"
      },
      "execution_count": 101,
      "outputs": [
        {
          "output_type": "execute_result",
          "data": {
            "text/plain": [
              "3"
            ]
          },
          "metadata": {},
          "execution_count": 101
        }
      ]
    },
    {
      "cell_type": "code",
      "source": [],
      "metadata": {
        "id": "GZZjv7tfkD16"
      },
      "execution_count": null,
      "outputs": []
    }
  ]
}