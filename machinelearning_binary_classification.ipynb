{
  "nbformat": 4,
  "nbformat_minor": 0,
  "metadata": {
    "colab": {
      "provenance": [],
      "authorship_tag": "ABX9TyNZmRCZFNFPuSMm7lGn51vq",
      "include_colab_link": true
    },
    "kernelspec": {
      "name": "python3",
      "display_name": "Python 3"
    },
    "language_info": {
      "name": "python"
    }
  },
  "cells": [
    {
      "cell_type": "markdown",
      "metadata": {
        "id": "view-in-github",
        "colab_type": "text"
      },
      "source": [
        "<a href=\"https://colab.research.google.com/github/prithvi-diwanji/NLP2024_exercises/blob/main/machinelearning_binary_classification.ipynb\" target=\"_parent\"><img src=\"https://colab.research.google.com/assets/colab-badge.svg\" alt=\"Open In Colab\"/></a>"
      ]
    },
    {
      "cell_type": "code",
      "execution_count": 7,
      "metadata": {
        "id": "GSJKO2MkGsAj"
      },
      "outputs": [],
      "source": [
        "#download dataset"
      ]
    },
    {
      "cell_type": "code",
      "source": [
        "#name: news_data.csv\n",
        "#location: https://mitu.co.in/dataset\n",
        "#download and save it current working directory\n",
        "import os\n",
        "os.getcwd()"
      ],
      "metadata": {
        "colab": {
          "base_uri": "https://localhost:8080/",
          "height": 35
        },
        "id": "Uot0MJbtZWIm",
        "outputId": "e94d9b9e-d9d0-4194-8d1b-fd5fade90a9f"
      },
      "execution_count": 8,
      "outputs": [
        {
          "output_type": "execute_result",
          "data": {
            "text/plain": [
              "'/content'"
            ],
            "application/vnd.google.colaboratory.intrinsic+json": {
              "type": "string"
            }
          },
          "metadata": {},
          "execution_count": 8
        }
      ]
    },
    {
      "cell_type": "code",
      "source": [
        "os.listdir(os.getcwd())"
      ],
      "metadata": {
        "colab": {
          "base_uri": "https://localhost:8080/"
        },
        "id": "XZ81s44CZbRl",
        "outputId": "e1db6386-3857-4a42-913b-0daa0fe12181"
      },
      "execution_count": 9,
      "outputs": [
        {
          "output_type": "execute_result",
          "data": {
            "text/plain": [
              "['.config', 'news_data.csv', 'sample_data']"
            ]
          },
          "metadata": {},
          "execution_count": 9
        }
      ]
    },
    {
      "cell_type": "code",
      "source": [
        "#what is the meaning of the dataset? very big adata set\n",
        "#classify some new news as fake or not fake?"
      ],
      "metadata": {
        "id": "-ZuB0PtebsVQ"
      },
      "execution_count": 10,
      "outputs": []
    },
    {
      "cell_type": "code",
      "source": [
        "#import all libraries\n",
        "import pandas as pd\n",
        "#visualization libraries\n",
        "import matplotlib.pyplot as plt"
      ],
      "metadata": {
        "id": "5gPTj8tHdoty"
      },
      "execution_count": 11,
      "outputs": []
    },
    {
      "cell_type": "code",
      "source": [
        "#prepare the data perfectly first\n",
        "#read the data\n",
        "df=pd.read_csv('news_data.csv')"
      ],
      "metadata": {
        "id": "goIs1pxReP28"
      },
      "execution_count": 15,
      "outputs": []
    },
    {
      "cell_type": "code",
      "source": [
        "df.shape"
      ],
      "metadata": {
        "colab": {
          "base_uri": "https://localhost:8080/"
        },
        "id": "Cu4aUn8ieaBV",
        "outputId": "c4f0b467-bac1-4b43-e328-83f93002f69a"
      },
      "execution_count": 16,
      "outputs": [
        {
          "output_type": "execute_result",
          "data": {
            "text/plain": [
              "(9900, 2)"
            ]
          },
          "metadata": {},
          "execution_count": 16
        }
      ]
    },
    {
      "cell_type": "code",
      "source": [
        "df.columns"
      ],
      "metadata": {
        "colab": {
          "base_uri": "https://localhost:8080/"
        },
        "id": "aNxZ5MEceb2T",
        "outputId": "e15fe94b-952b-41d8-bd0d-4633bc3aab73"
      },
      "execution_count": 17,
      "outputs": [
        {
          "output_type": "execute_result",
          "data": {
            "text/plain": [
              "Index(['Text', 'label'], dtype='object')"
            ]
          },
          "metadata": {},
          "execution_count": 17
        }
      ]
    },
    {
      "cell_type": "code",
      "source": [
        "## separate the input and output data first\n",
        "# in supervised learning there a re features and labels\n",
        "features=df['Text'] #input data\n",
        "label=df['label']#outout data\n"
      ],
      "metadata": {
        "id": "6BRO312DegC7"
      },
      "execution_count": 18,
      "outputs": []
    },
    {
      "cell_type": "code",
      "source": [
        "features.head() #x"
      ],
      "metadata": {
        "colab": {
          "base_uri": "https://localhost:8080/"
        },
        "id": "6WGubHoFfGyc",
        "outputId": "7d590898-9bfd-4ac4-e67f-7490891ebbd3"
      },
      "execution_count": 19,
      "outputs": [
        {
          "output_type": "execute_result",
          "data": {
            "text/plain": [
              "0     Top Trump Surrogate BRUTALLY Stabs Him In The...\n",
              "1    U.S. conservative leader optimistic of common ...\n",
              "2    Trump proposes U.S. tax overhaul, stirs concer...\n",
              "3     Court Forces Ohio To Allow Millions Of Illega...\n",
              "4    Democrats say Trump agrees to work on immigrat...\n",
              "Name: Text, dtype: object"
            ]
          },
          "metadata": {},
          "execution_count": 19
        }
      ]
    },
    {
      "cell_type": "code",
      "source": [
        "label #y"
      ],
      "metadata": {
        "colab": {
          "base_uri": "https://localhost:8080/"
        },
        "id": "36FXHc2xfRbb",
        "outputId": "ca0b900f-2a29-4b9a-f51c-e29bab1309ff"
      },
      "execution_count": 20,
      "outputs": [
        {
          "output_type": "execute_result",
          "data": {
            "text/plain": [
              "0       Fake\n",
              "1       Real\n",
              "2       Real\n",
              "3       Fake\n",
              "4       Real\n",
              "        ... \n",
              "9895    Fake\n",
              "9896    Real\n",
              "9897    Real\n",
              "9898    Fake\n",
              "9899    Fake\n",
              "Name: label, Length: 9900, dtype: object"
            ]
          },
          "metadata": {},
          "execution_count": 20
        }
      ]
    },
    {
      "cell_type": "code",
      "source": [
        "set(label)"
      ],
      "metadata": {
        "colab": {
          "base_uri": "https://localhost:8080/"
        },
        "id": "iqRIYtzsfYi0",
        "outputId": "6a683549-f976-4889-dbe1-6a19d8834e81"
      },
      "execution_count": 21,
      "outputs": [
        {
          "output_type": "execute_result",
          "data": {
            "text/plain": [
              "{'Fake', 'Real'}"
            ]
          },
          "metadata": {},
          "execution_count": 21
        }
      ]
    },
    {
      "cell_type": "code",
      "source": [
        "import seaborn as sns\n",
        "sns.countplot(x=label)"
      ],
      "metadata": {
        "colab": {
          "base_uri": "https://localhost:8080/",
          "height": 466
        },
        "id": "D50yjQ32gW_6",
        "outputId": "ca71f6b8-6e26-4b0f-970f-f7b319ca5e02"
      },
      "execution_count": 22,
      "outputs": [
        {
          "output_type": "execute_result",
          "data": {
            "text/plain": [
              "<Axes: xlabel='label', ylabel='count'>"
            ]
          },
          "metadata": {},
          "execution_count": 22
        },
        {
          "output_type": "display_data",
          "data": {
            "text/plain": [
              "<Figure size 640x480 with 1 Axes>"
            ],
            "image/png": "[encoded data removed]"
          },
          "metadata": {}
        }
      ]
    },
    {
      "cell_type": "code",
      "source": [
        "import matplotlib.pyplot as plt"
      ],
      "metadata": {
        "id": "EjMeJhwJggTV"
      },
      "execution_count": 23,
      "outputs": []
    },
    {
      "cell_type": "markdown",
      "source": [
        "Data cleaning"
      ],
      "metadata": {
        "id": "WV2un2hpWwK1"
      }
    },
    {
      "cell_type": "code",
      "source": [
        "## clean the data for training the model"
      ],
      "metadata": {
        "id": "OA5iZn70g7_H"
      },
      "execution_count": 24,
      "outputs": []
    },
    {
      "cell_type": "code",
      "source": [
        "#get packages, tokenize, ....and give keywords\n",
        "#get stopwords/keywords\n",
        "#give weightage using tfid vectorizer"
      ],
      "metadata": {
        "id": "fSMG_WwnWuIN"
      },
      "execution_count": 28,
      "outputs": []
    },
    {
      "cell_type": "code",
      "source": [
        "import nltk\n",
        "nltk.download('punkt')\n",
        "from nltk.tokenize import word_tokenize\n",
        "from nltk.corpus import stopwords\n",
        "from nltk.stem import PorterStemmer"
      ],
      "metadata": {
        "colab": {
          "base_uri": "https://localhost:8080/"
        },
        "id": "Fm5GcNjtW_FL",
        "outputId": "83cc57c5-03a6-4d97-a033-0b821a6cf287"
      },
      "execution_count": 33,
      "outputs": [
        {
          "output_type": "stream",
          "name": "stderr",
          "text": [
            "[nltk_data] Downloading package punkt to /root/nltk_data...\n",
            "[nltk_data]   Unzipping tokenizers/punkt.zip.\n"
          ]
        }
      ]
    },
    {
      "cell_type": "code",
      "source": [
        "#apply tokenizer to a single sentence first and then to the corpus our data"
      ],
      "metadata": {
        "id": "sutVgIDHXMsU"
      },
      "execution_count": 34,
      "outputs": []
    },
    {
      "cell_type": "code",
      "source": [
        "sent= 'Hello friends! How are you? I like Python Programming.'"
      ],
      "metadata": {
        "id": "-yqRpaNwXcMs"
      },
      "execution_count": 35,
      "outputs": []
    },
    {
      "cell_type": "code",
      "source": [
        "#tokenize\n",
        "tokens1 = word_tokenize(sent)"
      ],
      "metadata": {
        "id": "dRAtwc3jXktw"
      },
      "execution_count": 36,
      "outputs": []
    },
    {
      "cell_type": "code",
      "source": [
        "tokens1"
      ],
      "metadata": {
        "colab": {
          "base_uri": "https://localhost:8080/"
        },
        "id": "LSyM__a2Xqds",
        "outputId": "a72f5c26-e595-4bd3-b14c-1ac0a724f7ae"
      },
      "execution_count": 37,
      "outputs": [
        {
          "output_type": "execute_result",
          "data": {
            "text/plain": [
              "['Hello',\n",
              " 'friends',\n",
              " '!',\n",
              " 'How',\n",
              " 'are',\n",
              " 'you',\n",
              " '?',\n",
              " 'I',\n",
              " 'like',\n",
              " 'Python',\n",
              " 'Programming',\n",
              " '.']"
            ]
          },
          "metadata": {},
          "execution_count": 37
        }
      ]
    },
    {
      "cell_type": "code",
      "source": [
        "#remove punctuations and get only alphanumeric, get all data in lowercase\n"
      ],
      "metadata": {
        "id": "UiDoBefKX3lt"
      },
      "execution_count": 38,
      "outputs": []
    },
    {
      "cell_type": "code",
      "source": [
        "tokens2 = [x.lower() for x in tokens1 if x.isalpha()]"
      ],
      "metadata": {
        "id": "le6vtkSpYPjT"
      },
      "execution_count": 41,
      "outputs": []
    },
    {
      "cell_type": "code",
      "source": [
        "tokens2"
      ],
      "metadata": {
        "colab": {
          "base_uri": "https://localhost:8080/"
        },
        "id": "FIfz1OQ6Yith",
        "outputId": "a286c356-2c47-4858-dfb4-6797cead2fab"
      },
      "execution_count": 42,
      "outputs": [
        {
          "output_type": "execute_result",
          "data": {
            "text/plain": [
              "['hello', 'friends', 'how', 'are', 'you', 'i', 'like', 'python', 'programming']"
            ]
          },
          "metadata": {},
          "execution_count": 42
        }
      ]
    },
    {
      "cell_type": "code",
      "source": [
        "#remove stopwords\n",
        "nltk.download('stopwords')\n",
        "swords = stopwords.words('english')"
      ],
      "metadata": {
        "colab": {
          "base_uri": "https://localhost:8080/"
        },
        "id": "cZwTSKIMYvZY",
        "outputId": "cd807025-3438-4ca9-b62c-3f4b2f788ab0"
      },
      "execution_count": 45,
      "outputs": [
        {
          "output_type": "stream",
          "name": "stderr",
          "text": [
            "[nltk_data] Downloading package stopwords to /root/nltk_data...\n",
            "[nltk_data]   Unzipping corpora/stopwords.zip.\n"
          ]
        }
      ]
    },
    {
      "cell_type": "code",
      "source": [
        "swords"
      ],
      "metadata": {
        "colab": {
          "base_uri": "https://localhost:8080/"
        },
        "id": "B5OR0VRsYx5A",
        "outputId": "f2768534-f988-4c5c-b469-cfd19c65a708"
      },
      "execution_count": 46,
      "outputs": [
        {
          "output_type": "execute_result",
          "data": {
            "text/plain": [
              "['i',\n",
              " 'me',\n",
              " 'my',\n",
              " 'myself',\n",
              " 'we',\n",
              " 'our',\n",
              " 'ours',\n",
              " 'ourselves',\n",
              " 'you',\n",
              " \"you're\",\n",
              " \"you've\",\n",
              " \"you'll\",\n",
              " \"you'd\",\n",
              " 'your',\n",
              " 'yours',\n",
              " 'yourself',\n",
              " 'yourselves',\n",
              " 'he',\n",
              " 'him',\n",
              " 'his',\n",
              " 'himself',\n",
              " 'she',\n",
              " \"she's\",\n",
              " 'her',\n",
              " 'hers',\n",
              " 'herself',\n",
              " 'it',\n",
              " \"it's\",\n",
              " 'its',\n",
              " 'itself',\n",
              " 'they',\n",
              " 'them',\n",
              " 'their',\n",
              " 'theirs',\n",
              " 'themselves',\n",
              " 'what',\n",
              " 'which',\n",
              " 'who',\n",
              " 'whom',\n",
              " 'this',\n",
              " 'that',\n",
              " \"that'll\",\n",
              " 'these',\n",
              " 'those',\n",
              " 'am',\n",
              " 'is',\n",
              " 'are',\n",
              " 'was',\n",
              " 'were',\n",
              " 'be',\n",
              " 'been',\n",
              " 'being',\n",
              " 'have',\n",
              " 'has',\n",
              " 'had',\n",
              " 'having',\n",
              " 'do',\n",
              " 'does',\n",
              " 'did',\n",
              " 'doing',\n",
              " 'a',\n",
              " 'an',\n",
              " 'the',\n",
              " 'and',\n",
              " 'but',\n",
              " 'if',\n",
              " 'or',\n",
              " 'because',\n",
              " 'as',\n",
              " 'until',\n",
              " 'while',\n",
              " 'of',\n",
              " 'at',\n",
              " 'by',\n",
              " 'for',\n",
              " 'with',\n",
              " 'about',\n",
              " 'against',\n",
              " 'between',\n",
              " 'into',\n",
              " 'through',\n",
              " 'during',\n",
              " 'before',\n",
              " 'after',\n",
              " 'above',\n",
              " 'below',\n",
              " 'to',\n",
              " 'from',\n",
              " 'up',\n",
              " 'down',\n",
              " 'in',\n",
              " 'out',\n",
              " 'on',\n",
              " 'off',\n",
              " 'over',\n",
              " 'under',\n",
              " 'again',\n",
              " 'further',\n",
              " 'then',\n",
              " 'once',\n",
              " 'here',\n",
              " 'there',\n",
              " 'when',\n",
              " 'where',\n",
              " 'why',\n",
              " 'how',\n",
              " 'all',\n",
              " 'any',\n",
              " 'both',\n",
              " 'each',\n",
              " 'few',\n",
              " 'more',\n",
              " 'most',\n",
              " 'other',\n",
              " 'some',\n",
              " 'such',\n",
              " 'no',\n",
              " 'nor',\n",
              " 'not',\n",
              " 'only',\n",
              " 'own',\n",
              " 'same',\n",
              " 'so',\n",
              " 'than',\n",
              " 'too',\n",
              " 'very',\n",
              " 's',\n",
              " 't',\n",
              " 'can',\n",
              " 'will',\n",
              " 'just',\n",
              " 'don',\n",
              " \"don't\",\n",
              " 'should',\n",
              " \"should've\",\n",
              " 'now',\n",
              " 'd',\n",
              " 'll',\n",
              " 'm',\n",
              " 'o',\n",
              " 're',\n",
              " 've',\n",
              " 'y',\n",
              " 'ain',\n",
              " 'aren',\n",
              " \"aren't\",\n",
              " 'couldn',\n",
              " \"couldn't\",\n",
              " 'didn',\n",
              " \"didn't\",\n",
              " 'doesn',\n",
              " \"doesn't\",\n",
              " 'hadn',\n",
              " \"hadn't\",\n",
              " 'hasn',\n",
              " \"hasn't\",\n",
              " 'haven',\n",
              " \"haven't\",\n",
              " 'isn',\n",
              " \"isn't\",\n",
              " 'ma',\n",
              " 'mightn',\n",
              " \"mightn't\",\n",
              " 'mustn',\n",
              " \"mustn't\",\n",
              " 'needn',\n",
              " \"needn't\",\n",
              " 'shan',\n",
              " \"shan't\",\n",
              " 'shouldn',\n",
              " \"shouldn't\",\n",
              " 'wasn',\n",
              " \"wasn't\",\n",
              " 'weren',\n",
              " \"weren't\",\n",
              " 'won',\n",
              " \"won't\",\n",
              " 'wouldn',\n",
              " \"wouldn't\"]"
            ]
          },
          "metadata": {},
          "execution_count": 46
        }
      ]
    },
    {
      "cell_type": "code",
      "source": [
        "tokens3 = [x for x in tokens2 if x not in swords]"
      ],
      "metadata": {
        "id": "55D4CTcRZAeO"
      },
      "execution_count": 47,
      "outputs": []
    },
    {
      "cell_type": "code",
      "source": [
        "tokens3"
      ],
      "metadata": {
        "colab": {
          "base_uri": "https://localhost:8080/"
        },
        "id": "Mn1rT_jPaDSm",
        "outputId": "4b08f4d3-dfc0-4ac1-93a7-a09c83c9d188"
      },
      "execution_count": 48,
      "outputs": [
        {
          "output_type": "execute_result",
          "data": {
            "text/plain": [
              "['hello', 'friends', 'like', 'python', 'programming']"
            ]
          },
          "metadata": {},
          "execution_count": 48
        }
      ]
    },
    {
      "cell_type": "code",
      "source": [
        "#remove stems and suffixes, we need stemmer lancaster or porter stemmer\n",
        "ps = PorterStemmer()\n"
      ],
      "metadata": {
        "id": "CDdwqxnLaE_h"
      },
      "execution_count": 49,
      "outputs": []
    },
    {
      "cell_type": "code",
      "source": [
        "tokens4 = [ps.stem(x) for x in tokens3]"
      ],
      "metadata": {
        "id": "x27G7EHLahIm"
      },
      "execution_count": 50,
      "outputs": []
    },
    {
      "cell_type": "code",
      "source": [
        "tokens4"
      ],
      "metadata": {
        "colab": {
          "base_uri": "https://localhost:8080/"
        },
        "id": "gMshTeg4azaP",
        "outputId": "f714fdef-978f-42e5-b5b1-57efdfafbecd"
      },
      "execution_count": 51,
      "outputs": [
        {
          "output_type": "execute_result",
          "data": {
            "text/plain": [
              "['hello', 'friend', 'like', 'python', 'program']"
            ]
          },
          "metadata": {},
          "execution_count": 51
        }
      ]
    },
    {
      "cell_type": "code",
      "source": [
        "#finallly these are the root words we get and this u can apply to any sentence\n",
        "# we want a function to clean the text like above for text cleaning\n",
        "def clean_text(sent):\n",
        "  tokens1 = word_tokenize(sent)\n",
        "  tokens2 = [x.lower() for x in tokens1 if x.isalpha()]\n",
        "  tokens3 = [x for x in tokens2 if x not in swords]\n",
        "  tokens4 = [ps.stem(x) for x in tokens3]\n",
        "  return tokens4\n"
      ],
      "metadata": {
        "id": "C_vFKQCKa3eW"
      },
      "execution_count": 53,
      "outputs": []
    },
    {
      "cell_type": "code",
      "source": [
        "tokens4"
      ],
      "metadata": {
        "colab": {
          "base_uri": "https://localhost:8080/"
        },
        "id": "PPjoKeRsbMia",
        "outputId": "d1e896c6-de07-42cd-d479-a5d6fb301d81"
      },
      "execution_count": 54,
      "outputs": [
        {
          "output_type": "execute_result",
          "data": {
            "text/plain": [
              "['hello', 'friend', 'like', 'python', 'program']"
            ]
          },
          "metadata": {},
          "execution_count": 54
        }
      ]
    },
    {
      "cell_type": "code",
      "source": [
        "#apply this function before applying vectorization"
      ],
      "metadata": {
        "id": "S2kz7uurb24Q"
      },
      "execution_count": 55,
      "outputs": []
    },
    {
      "cell_type": "code",
      "source": [
        "clean_text(sent)"
      ],
      "metadata": {
        "colab": {
          "base_uri": "https://localhost:8080/"
        },
        "id": "jSoqsBv3b-Hr",
        "outputId": "31ad4a62-49d7-4580-e6f2-7026d53b36c2"
      },
      "execution_count": 56,
      "outputs": [
        {
          "output_type": "execute_result",
          "data": {
            "text/plain": [
              "['hello', 'friend', 'like', 'python', 'program']"
            ]
          },
          "metadata": {},
          "execution_count": 56
        }
      ]
    },
    {
      "cell_type": "code",
      "source": [
        "new_sent= 'It was the expected result. They told the same on fields.'"
      ],
      "metadata": {
        "id": "7iyMuL3GcELo"
      },
      "execution_count": 57,
      "outputs": []
    },
    {
      "cell_type": "code",
      "source": [
        "clean_text(new_sent)"
      ],
      "metadata": {
        "colab": {
          "base_uri": "https://localhost:8080/"
        },
        "id": "gLY--0EDcYDI",
        "outputId": "01c2e53e-4e52-40c6-cf8c-364950c85313"
      },
      "execution_count": 58,
      "outputs": [
        {
          "output_type": "execute_result",
          "data": {
            "text/plain": [
              "['expect', 'result', 'told', 'field']"
            ]
          },
          "metadata": {},
          "execution_count": 58
        }
      ]
    },
    {
      "cell_type": "code",
      "source": [
        "features[123]"
      ],
      "metadata": {
        "colab": {
          "base_uri": "https://localhost:8080/",
          "height": 140
        },
        "id": "EdVT8igVca_D",
        "outputId": "fd552cab-b198-4ceb-c267-70759d2473b2"
      },
      "execution_count": 59,
      "outputs": [
        {
          "output_type": "execute_result",
          "data": {
            "text/plain": [
              "' Ranking Dem On House Russia Probe Has EXPLOSIVE News For Trump That Will Have Him Running Scared As everybody who still believes in democracy and true freedom reels from FBI Director James Comey s firing, the media and members of Congress have been frantically working to get the deets on what happened. Rep. Adam Schiff, the ranking member of the House Intelligence Committee (which is conducting its own investigation into Russia), just dropped a truth bomb about Comey, and Trump would be wise to go find a cave and hide in it now.Schiff was asked, on CNN, whether he believes this is a cover-up. He doesn t. He thinks it s something worse: It s a brazen interference with a criminal investigation. After all, the president calls this whole investigation a fake, and here you had an FBI director who was seriously looking into whether Trump associates were colluding with the Russians. The end of his statement to CNN should be particularly jarring to anybody familiar with history. Watch below:Rep. Adam Schiff on firing of FBI Director James Comey:  It s a brazen interference with a criminal investigation  https://t.co/5SXgAuTVBP  CNN (@CNN) May 10, 2017Earlier this year, the White House tried to get the FBI to publicly dispute stories appearing in The New York Times about contacts between Trump s associates and Russian actors. They ve been trying to bend the FBI to their will for a long time, and when Comey wouldn t lie under oath for them, or end his Russia probe, Trump decided to fire him.In fact, Jeff Sessions was actually told to find reasons to fire Comey, and they ve been working on it for at least a week. Trump likely wants someone in that position who ll end that investigation before they discover something really damning. He wants a puppet.If Trump was innocent, the White House wouldn t have been looking for reasons to fire Comey now. Comey may not have even been fired, but if he was, Trump probably would have done it when he took office under the guise of getting a fresh start, as Schiff said to CNN. This is not the behavior of an innocent man.Featured image via Mark Wilson/Getty Images'"
            ],
            "application/vnd.google.colaboratory.intrinsic+json": {
              "type": "string"
            }
          },
          "metadata": {},
          "execution_count": 59
        }
      ]
    },
    {
      "cell_type": "code",
      "source": [
        "clean_text(features[123]) # apply function to any news --our data set input"
      ],
      "metadata": {
        "colab": {
          "base_uri": "https://localhost:8080/"
        },
        "collapsed": true,
        "id": "6L8CM5Ioc0JD",
        "outputId": "31c561c5-65e0-4228-d51b-5cad722ad972"
      },
      "execution_count": 61,
      "outputs": [
        {
          "output_type": "execute_result",
          "data": {
            "text/plain": [
              "['rank',\n",
              " 'dem',\n",
              " 'hous',\n",
              " 'russia',\n",
              " 'probe',\n",
              " 'explos',\n",
              " 'news',\n",
              " 'trump',\n",
              " 'run',\n",
              " 'scare',\n",
              " 'everybodi',\n",
              " 'still',\n",
              " 'believ',\n",
              " 'democraci',\n",
              " 'true',\n",
              " 'freedom',\n",
              " 'reel',\n",
              " 'fbi',\n",
              " 'director',\n",
              " 'jame',\n",
              " 'comey',\n",
              " 'fire',\n",
              " 'media',\n",
              " 'member',\n",
              " 'congress',\n",
              " 'frantic',\n",
              " 'work',\n",
              " 'get',\n",
              " 'deet',\n",
              " 'happen',\n",
              " 'adam',\n",
              " 'schiff',\n",
              " 'rank',\n",
              " 'member',\n",
              " 'hous',\n",
              " 'intellig',\n",
              " 'committe',\n",
              " 'conduct',\n",
              " 'investig',\n",
              " 'russia',\n",
              " 'drop',\n",
              " 'truth',\n",
              " 'bomb',\n",
              " 'comey',\n",
              " 'trump',\n",
              " 'would',\n",
              " 'wise',\n",
              " 'go',\n",
              " 'find',\n",
              " 'cave',\n",
              " 'hide',\n",
              " 'ask',\n",
              " 'cnn',\n",
              " 'whether',\n",
              " 'believ',\n",
              " 'think',\n",
              " 'someth',\n",
              " 'wors',\n",
              " 'brazen',\n",
              " 'interfer',\n",
              " 'crimin',\n",
              " 'investig',\n",
              " 'presid',\n",
              " 'call',\n",
              " 'whole',\n",
              " 'investig',\n",
              " 'fake',\n",
              " 'fbi',\n",
              " 'director',\n",
              " 'serious',\n",
              " 'look',\n",
              " 'whether',\n",
              " 'trump',\n",
              " 'associ',\n",
              " 'collud',\n",
              " 'russian',\n",
              " 'end',\n",
              " 'statement',\n",
              " 'cnn',\n",
              " 'particularli',\n",
              " 'jar',\n",
              " 'anybodi',\n",
              " 'familiar',\n",
              " 'histori',\n",
              " 'watch',\n",
              " 'adam',\n",
              " 'schiff',\n",
              " 'fire',\n",
              " 'fbi',\n",
              " 'director',\n",
              " 'jame',\n",
              " 'comey',\n",
              " 'brazen',\n",
              " 'interfer',\n",
              " 'crimin',\n",
              " 'investig',\n",
              " 'http',\n",
              " 'cnn',\n",
              " 'cnn',\n",
              " 'may',\n",
              " 'year',\n",
              " 'white',\n",
              " 'hous',\n",
              " 'tri',\n",
              " 'get',\n",
              " 'fbi',\n",
              " 'publicli',\n",
              " 'disput',\n",
              " 'stori',\n",
              " 'appear',\n",
              " 'new',\n",
              " 'york',\n",
              " 'time',\n",
              " 'contact',\n",
              " 'trump',\n",
              " 'associ',\n",
              " 'russian',\n",
              " 'actor',\n",
              " 'tri',\n",
              " 'bend',\n",
              " 'fbi',\n",
              " 'long',\n",
              " 'time',\n",
              " 'comey',\n",
              " 'lie',\n",
              " 'oath',\n",
              " 'end',\n",
              " 'russia',\n",
              " 'probe',\n",
              " 'trump',\n",
              " 'decid',\n",
              " 'fire',\n",
              " 'fact',\n",
              " 'jeff',\n",
              " 'session',\n",
              " 'actual',\n",
              " 'told',\n",
              " 'find',\n",
              " 'reason',\n",
              " 'fire',\n",
              " 'comey',\n",
              " 'work',\n",
              " 'least',\n",
              " 'week',\n",
              " 'trump',\n",
              " 'like',\n",
              " 'want',\n",
              " 'someon',\n",
              " 'posit',\n",
              " 'end',\n",
              " 'investig',\n",
              " 'discov',\n",
              " 'someth',\n",
              " 'realli',\n",
              " 'damn',\n",
              " 'want',\n",
              " 'trump',\n",
              " 'innoc',\n",
              " 'white',\n",
              " 'hous',\n",
              " 'look',\n",
              " 'reason',\n",
              " 'fire',\n",
              " 'comey',\n",
              " 'comey',\n",
              " 'may',\n",
              " 'even',\n",
              " 'fire',\n",
              " 'trump',\n",
              " 'probabl',\n",
              " 'would',\n",
              " 'done',\n",
              " 'took',\n",
              " 'offic',\n",
              " 'guis',\n",
              " 'get',\n",
              " 'fresh',\n",
              " 'start',\n",
              " 'schiff',\n",
              " 'said',\n",
              " 'cnn',\n",
              " 'behavior',\n",
              " 'innoc',\n",
              " 'imag',\n",
              " 'via',\n",
              " 'mark',\n",
              " 'imag']"
            ]
          },
          "metadata": {},
          "execution_count": 61
        }
      ]
    },
    {
      "cell_type": "code",
      "source": [],
      "metadata": {
        "id": "NdigllF2c6jV"
      },
      "execution_count": null,
      "outputs": []
    },
    {
      "cell_type": "markdown",
      "source": [
        "Vectorization TF IDF"
      ],
      "metadata": {
        "id": "16-QQPF6dPLP"
      }
    },
    {
      "cell_type": "code",
      "source": [
        "!pip install scikit-learn\n",
        "#import the class\n",
        "from sklearn.feature_extraction.text import TfidfVectorizer"
      ],
      "metadata": {
        "colab": {
          "base_uri": "https://localhost:8080/"
        },
        "id": "rmImphUNdQ26",
        "outputId": "cdd47ccd-321e-4126-d555-3d350b367e29"
      },
      "execution_count": 65,
      "outputs": [
        {
          "output_type": "stream",
          "name": "stdout",
          "text": [
            "Requirement already satisfied: scikit-learn in /usr/local/lib/python3.10/dist-packages (1.2.2)\n",
            "Requirement already satisfied: numpy>=1.17.3 in /usr/local/lib/python3.10/dist-packages (from scikit-learn) (1.25.2)\n",
            "Requirement already satisfied: scipy>=1.3.2 in /usr/local/lib/python3.10/dist-packages (from scikit-learn) (1.11.4)\n",
            "Requirement already satisfied: joblib>=1.1.1 in /usr/local/lib/python3.10/dist-packages (from scikit-learn) (1.4.2)\n",
            "Requirement already satisfied: threadpoolctl>=2.0.0 in /usr/local/lib/python3.10/dist-packages (from scikit-learn) (3.5.0)\n"
          ]
        }
      ]
    },
    {
      "cell_type": "code",
      "source": [
        "#create the object\n",
        "tfidf = TfidfVectorizer(analyzer=clean_text)"
      ],
      "metadata": {
        "id": "Ua0jfSL1dh_Q"
      },
      "execution_count": 66,
      "outputs": []
    },
    {
      "cell_type": "code",
      "source": [
        "#perform the operation\n",
        "features_new = tfidf.fit_transform(features)\n"
      ],
      "metadata": {
        "id": "Td-wJa_Fek9J"
      },
      "execution_count": 67,
      "outputs": []
    },
    {
      "cell_type": "code",
      "source": [
        "features_new.shape"
      ],
      "metadata": {
        "colab": {
          "base_uri": "https://localhost:8080/"
        },
        "id": "M14XBm1yeuNs",
        "outputId": "3570cb19-8806-43b7-d156-71e37b96da9c"
      },
      "execution_count": 68,
      "outputs": [
        {
          "output_type": "execute_result",
          "data": {
            "text/plain": [
              "(9900, 33562)"
            ]
          },
          "metadata": {},
          "execution_count": 68
        }
      ]
    },
    {
      "cell_type": "code",
      "source": [
        "len(tfidf.get_feature_names_out())"
      ],
      "metadata": {
        "colab": {
          "base_uri": "https://localhost:8080/"
        },
        "id": "srTM3n-Hez_B",
        "outputId": "efd9ce45-05c3-4fee-a0b1-413f8f886103"
      },
      "execution_count": 70,
      "outputs": [
        {
          "output_type": "execute_result",
          "data": {
            "text/plain": [
              "33562"
            ]
          },
          "metadata": {},
          "execution_count": 70
        }
      ]
    },
    {
      "cell_type": "code",
      "source": [
        "#data is expanded and we got the unique columns"
      ],
      "metadata": {
        "id": "ZuJNRMr5fA91"
      },
      "execution_count": 71,
      "outputs": []
    },
    {
      "cell_type": "code",
      "source": [
        "#now logical understanding - one more thing is needed\n",
        "#afte training how to find accuravy of model?\n",
        "# before going to nxt step, evalute the algorithm. we need evaluation methods see ppt"
      ],
      "metadata": {
        "id": "dMvvodtHfjDF"
      },
      "execution_count": 72,
      "outputs": []
    },
    {
      "cell_type": "code",
      "source": [
        "#cross validation - how do i know how algo performs on unknown data?\n",
        "#when new news comes i want to predict if it is real or fake?"
      ],
      "metadata": {
        "id": "NVV6HmOYf3Am"
      },
      "execution_count": 73,
      "outputs": []
    },
    {
      "cell_type": "code",
      "source": [
        "#total number of entries are 33562"
      ],
      "metadata": {
        "id": "hSCAkMFggG1J"
      },
      "execution_count": 74,
      "outputs": []
    },
    {
      "cell_type": "code",
      "source": [],
      "metadata": {
        "id": "wrsaVAqHjIkM"
      },
      "execution_count": null,
      "outputs": []
    },
    {
      "cell_type": "markdown",
      "source": [
        "Cross validation"
      ],
      "metadata": {
        "id": "UW48zN1-jJMT"
      }
    },
    {
      "cell_type": "code",
      "source": [
        "#import the function\n",
        "from sklearn.model_selection import train_test_split"
      ],
      "metadata": {
        "id": "ZR2jCvuWjLHT"
      },
      "execution_count": 75,
      "outputs": []
    },
    {
      "cell_type": "code",
      "source": [
        "#perform cross validation\n",
        "x_train, x_test, y_train, y_test = train_test_split(features_new, label, random_state=0)"
      ],
      "metadata": {
        "id": "0J3CgenpjTe0"
      },
      "execution_count": 79,
      "outputs": []
    },
    {
      "cell_type": "code",
      "source": [
        "x_train.shape"
      ],
      "metadata": {
        "colab": {
          "base_uri": "https://localhost:8080/"
        },
        "id": "dWNDT_VJjiKn",
        "outputId": "1aa8c46b-aa86-4f1f-d28e-9133d89d8e92"
      },
      "execution_count": 80,
      "outputs": [
        {
          "output_type": "execute_result",
          "data": {
            "text/plain": [
              "(7425, 33562)"
            ]
          },
          "metadata": {},
          "execution_count": 80
        }
      ]
    },
    {
      "cell_type": "code",
      "source": [
        "x_test.shape"
      ],
      "metadata": {
        "colab": {
          "base_uri": "https://localhost:8080/"
        },
        "id": "7B79lBYgjn6w",
        "outputId": "bd095c26-f88a-4bfc-c18a-dfb79d50017f"
      },
      "execution_count": 81,
      "outputs": [
        {
          "output_type": "execute_result",
          "data": {
            "text/plain": [
              "(2475, 33562)"
            ]
          },
          "metadata": {},
          "execution_count": 81
        }
      ]
    },
    {
      "cell_type": "code",
      "source": [
        "#we have split the data"
      ],
      "metadata": {
        "id": "A_4YElYnjwqr"
      },
      "execution_count": 82,
      "outputs": []
    },
    {
      "cell_type": "code",
      "source": [
        "y_train.shape"
      ],
      "metadata": {
        "colab": {
          "base_uri": "https://localhost:8080/"
        },
        "id": "0MJhZQaFlCMw",
        "outputId": "a93b5a76-307e-4326-cd73-336b61b500ad"
      },
      "execution_count": 83,
      "outputs": [
        {
          "output_type": "execute_result",
          "data": {
            "text/plain": [
              "(7425,)"
            ]
          },
          "metadata": {},
          "execution_count": 83
        }
      ]
    },
    {
      "cell_type": "code",
      "source": [
        "y_test.shape"
      ],
      "metadata": {
        "colab": {
          "base_uri": "https://localhost:8080/"
        },
        "id": "H0y7y_aylITr",
        "outputId": "620f41ff-87bc-4530-e49e-17577e8ef5ad"
      },
      "execution_count": 84,
      "outputs": [
        {
          "output_type": "execute_result",
          "data": {
            "text/plain": [
              "(2475,)"
            ]
          },
          "metadata": {},
          "execution_count": 84
        }
      ]
    },
    {
      "cell_type": "code",
      "source": [
        "#machine learning logic is present in sklearn"
      ],
      "metadata": {
        "id": "9b0j_45mlKU4"
      },
      "execution_count": 86,
      "outputs": []
    },
    {
      "cell_type": "code",
      "source": [
        "#now we train using logic , build the model"
      ],
      "metadata": {
        "id": "UwN7sxzDloDK"
      },
      "execution_count": 87,
      "outputs": []
    },
    {
      "cell_type": "code",
      "source": [
        "#build the decision tree algorithm model on the trainign data"
      ],
      "metadata": {
        "id": "6VH62IMxluED"
      },
      "execution_count": 88,
      "outputs": []
    },
    {
      "cell_type": "code",
      "source": [
        "#import the class\n",
        "from sklearn.tree import DecisionTreeClassifier"
      ],
      "metadata": {
        "id": "3qPx0vIQlzUd"
      },
      "execution_count": 89,
      "outputs": []
    },
    {
      "cell_type": "code",
      "source": [
        "#crete the object\n",
        "dt=DecisionTreeClassifier(random_state=0)\n"
      ],
      "metadata": {
        "id": "RKbIPJNOl6dr"
      },
      "execution_count": 90,
      "outputs": []
    },
    {
      "cell_type": "code",
      "source": [
        "#train the data\n",
        "dt.fit(x_train, y_train)"
      ],
      "metadata": {
        "colab": {
          "base_uri": "https://localhost:8080/",
          "height": 75
        },
        "id": "73mX2cDln0_b",
        "outputId": "24d3ee04-aee8-4c26-a847-dff9d6f6d480"
      },
      "execution_count": 91,
      "outputs": [
        {
          "output_type": "execute_result",
          "data": {
            "text/plain": [
              "DecisionTreeClassifier(random_state=0)"
            ],
            "text/html": [
              "<style>#sk-container-id-1 {color: black;background-color: white;}#sk-container-id-1 pre{padding: 0;}#sk-container-id-1 div.sk-toggleable {background-color: white;}#sk-container-id-1 label.sk-toggleable__label {cursor: pointer;display: block;width: 100%;margin-bottom: 0;padding: 0.3em;box-sizing: border-box;text-align: center;}#sk-container-id-1 label.sk-toggleable__label-arrow:before {content: \"▸\";float: left;margin-right: 0.25em;color: #696969;}#sk-container-id-1 label.sk-toggleable__label-arrow:hover:before {color: black;}#sk-container-id-1 div.sk-estimator:hover label.sk-toggleable__label-arrow:before {color: black;}#sk-container-id-1 div.sk-toggleable__content {max-height: 0;max-width: 0;overflow: hidden;text-align: left;background-color: #f0f8ff;}#sk-container-id-1 div.sk-toggleable__content pre {margin: 0.2em;color: black;border-radius: 0.25em;background-color: #f0f8ff;}#sk-container-id-1 input.sk-toggleable__control:checked~div.sk-toggleable__content {max-height: 200px;max-width: 100%;overflow: auto;}#sk-container-id-1 input.sk-toggleable__control:checked~label.sk-toggleable__label-arrow:before {content: \"▾\";}#sk-container-id-1 div.sk-estimator input.sk-toggleable__control:checked~label.sk-toggleable__label {background-color: #d4ebff;}#sk-container-id-1 div.sk-label input.sk-toggleable__control:checked~label.sk-toggleable__label {background-color: #d4ebff;}#sk-container-id-1 input.sk-hidden--visually {border: 0;clip: rect(1px 1px 1px 1px);clip: rect(1px, 1px, 1px, 1px);height: 1px;margin: -1px;overflow: hidden;padding: 0;position: absolute;width: 1px;}#sk-container-id-1 div.sk-estimator {font-family: monospace;background-color: #f0f8ff;border: 1px dotted black;border-radius: 0.25em;box-sizing: border-box;margin-bottom: 0.5em;}#sk-container-id-1 div.sk-estimator:hover {background-color: #d4ebff;}#sk-container-id-1 div.sk-parallel-item::after {content: \"\";width: 100%;border-bottom: 1px solid gray;flex-grow: 1;}#sk-container-id-1 div.sk-label:hover label.sk-toggleable__label {background-color: #d4ebff;}#sk-container-id-1 div.sk-serial::before {content: \"\";position: absolute;border-left: 1px solid gray;box-sizing: border-box;top: 0;bottom: 0;left: 50%;z-index: 0;}#sk-container-id-1 div.sk-serial {display: flex;flex-direction: column;align-items: center;background-color: white;padding-right: 0.2em;padding-left: 0.2em;position: relative;}#sk-container-id-1 div.sk-item {position: relative;z-index: 1;}#sk-container-id-1 div.sk-parallel {display: flex;align-items: stretch;justify-content: center;background-color: white;position: relative;}#sk-container-id-1 div.sk-item::before, #sk-container-id-1 div.sk-parallel-item::before {content: \"\";position: absolute;border-left: 1px solid gray;box-sizing: border-box;top: 0;bottom: 0;left: 50%;z-index: -1;}#sk-container-id-1 div.sk-parallel-item {display: flex;flex-direction: column;z-index: 1;position: relative;background-color: white;}#sk-container-id-1 div.sk-parallel-item:first-child::after {align-self: flex-end;width: 50%;}#sk-container-id-1 div.sk-parallel-item:last-child::after {align-self: flex-start;width: 50%;}#sk-container-id-1 div.sk-parallel-item:only-child::after {width: 0;}#sk-container-id-1 div.sk-dashed-wrapped {border: 1px dashed gray;margin: 0 0.4em 0.5em 0.4em;box-sizing: border-box;padding-bottom: 0.4em;background-color: white;}#sk-container-id-1 div.sk-label label {font-family: monospace;font-weight: bold;display: inline-block;line-height: 1.2em;}#sk-container-id-1 div.sk-label-container {text-align: center;}#sk-container-id-1 div.sk-container {/* jupyter's `normalize.less` sets `[hidden] { display: none; }` but bootstrap.min.css set `[hidden] { display: none !important; }` so we also need the `!important` here to be able to override the default hidden behavior on the sphinx rendered scikit-learn.org. See: https://github.com/scikit-learn/scikit-learn/issues/21755 */display: inline-block !important;position: relative;}#sk-container-id-1 div.sk-text-repr-fallback {display: none;}</style><div id=\"sk-container-id-1\" class=\"sk-top-container\"><div class=\"sk-text-repr-fallback\"><pre>DecisionTreeClassifier(random_state=0)</pre><b>In a Jupyter environment, please rerun this cell to show the HTML representation or trust the notebook. <br />On GitHub, the HTML representation is unable to render, please try loading this page with nbviewer.org.</b></div><div class=\"sk-container\" hidden><div class=\"sk-item\"><div class=\"sk-estimator sk-toggleable\"><input class=\"sk-toggleable__control sk-hidden--visually\" id=\"sk-estimator-id-1\" type=\"checkbox\" checked><label for=\"sk-estimator-id-1\" class=\"sk-toggleable__label sk-toggleable__label-arrow\">DecisionTreeClassifier</label><div class=\"sk-toggleable__content\"><pre>DecisionTreeClassifier(random_state=0)</pre></div></div></div></div></div>"
            ]
          },
          "metadata": {},
          "execution_count": 91
        }
      ]
    },
    {
      "cell_type": "code",
      "source": [
        "from sklearn.tree import plot_tree"
      ],
      "metadata": {
        "id": "c6RI5-ZYn6qu"
      },
      "execution_count": 92,
      "outputs": []
    },
    {
      "cell_type": "code",
      "source": [
        "plot_tree(dt);"
      ],
      "metadata": {
        "colab": {
          "base_uri": "https://localhost:8080/",
          "height": 406
        },
        "id": "gS7wwW9Ao3y_",
        "outputId": "80c6fc1d-c83f-4c6f-c4b3-123d40d3659c"
      },
      "execution_count": 94,
      "outputs": [
        {
          "output_type": "display_data",
          "data": {
            "text/plain": [
              "<Figure size 640x480 with 1 Axes>"
            ],
            "image/png": "[encoded data removed]"
          },
          "metadata": {}
        }
      ]
    },
    {
      "cell_type": "code",
      "source": [
        "#how accurate is this model? check 2475 test data"
      ],
      "metadata": {
        "id": "iYVvta2fo6vE"
      },
      "execution_count": 96,
      "outputs": []
    },
    {
      "cell_type": "code",
      "source": [
        "## performance evaluation"
      ],
      "metadata": {
        "id": "c-op2R2YpMlE"
      },
      "execution_count": 97,
      "outputs": []
    },
    {
      "cell_type": "code",
      "source": [
        "#predict the result on test data\n",
        "y_pred =dt.predict(x_test)"
      ],
      "metadata": {
        "id": "UUMhP7neplLR"
      },
      "execution_count": 99,
      "outputs": []
    },
    {
      "cell_type": "code",
      "source": [
        "y_pred"
      ],
      "metadata": {
        "colab": {
          "base_uri": "https://localhost:8080/"
        },
        "id": "3-wY62-SpogQ",
        "outputId": "2044b9e9-2893-49c3-8c49-bc93b180c329"
      },
      "execution_count": 100,
      "outputs": [
        {
          "output_type": "execute_result",
          "data": {
            "text/plain": [
              "array(['Fake', 'Fake', 'Fake', ..., 'Fake', 'Fake', 'Fake'], dtype=object)"
            ]
          },
          "metadata": {},
          "execution_count": 100
        }
      ]
    },
    {
      "cell_type": "code",
      "source": [
        "len(y_pred)"
      ],
      "metadata": {
        "colab": {
          "base_uri": "https://localhost:8080/"
        },
        "id": "GNJdHrcvp3yd",
        "outputId": "42436cc2-9fdd-4cb5-aad6-09eee22069af"
      },
      "execution_count": 101,
      "outputs": [
        {
          "output_type": "execute_result",
          "data": {
            "text/plain": [
              "2475"
            ]
          },
          "metadata": {},
          "execution_count": 101
        }
      ]
    },
    {
      "cell_type": "code",
      "source": [
        "#match y pred with y test"
      ],
      "metadata": {
        "id": "TI_AEBZtp7XI"
      },
      "execution_count": 102,
      "outputs": []
    },
    {
      "cell_type": "code",
      "source": [],
      "metadata": {
        "id": "nW76q_kfqjnj"
      },
      "execution_count": null,
      "outputs": []
    }
  ]
}