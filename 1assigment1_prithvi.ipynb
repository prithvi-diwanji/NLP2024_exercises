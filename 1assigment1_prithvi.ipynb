{
  "cells": [
    {
      "cell_type": "markdown",
      "id": "c9fe920c-6178-446e-80b3-b572ef4abda7",
      "metadata": {
        "id": "c9fe920c-6178-446e-80b3-b572ef4abda7"
      },
      "source": [
        "##### Web Scraping"
      ]
    },
    {
      "cell_type": "code",
      "execution_count": 1,
      "id": "0fc8407b-a5e8-45c5-807b-4df58856cec5",
      "metadata": {
        "id": "0fc8407b-a5e8-45c5-807b-4df58856cec5"
      },
      "outputs": [],
      "source": [
        "from urllib.request import urlopen"
      ]
    },
    {
      "cell_type": "code",
      "execution_count": 17,
      "id": "08c6d53f-caf4-4481-9199-a4ae49cef1bb",
      "metadata": {
        "id": "08c6d53f-caf4-4481-9199-a4ae49cef1bb"
      },
      "outputs": [],
      "source": [
        "url = 'https://en.wikipedia.org/wiki/Mount_Everest'\n",
        "#Find the count of Total “Mount” in the text"
      ]
    },
    {
      "cell_type": "code",
      "execution_count": 31,
      "id": "8adf36a1-285e-47f0-ac79-2211451b40ed",
      "metadata": {
        "id": "8adf36a1-285e-47f0-ac79-2211451b40ed"
      },
      "outputs": [],
      "source": [
        "page =urlopen(url)"
      ]
    },
    {
      "cell_type": "code",
      "execution_count": 32,
      "id": "2d75c79c-76bb-4202-91c0-47ccd813e250",
      "metadata": {
        "colab": {
          "base_uri": "https://localhost:8080/"
        },
        "id": "2d75c79c-76bb-4202-91c0-47ccd813e250",
        "outputId": "bf244ab7-6d96-4759-98a9-8e2f7be1772b"
      },
      "outputs": [
        {
          "output_type": "execute_result",
          "data": {
            "text/plain": [
              "<http.client.HTTPResponse at 0x7bc1d557d930>"
            ]
          },
          "metadata": {},
          "execution_count": 32
        }
      ],
      "source": [
        "page"
      ]
    },
    {
      "cell_type": "code",
      "execution_count": 33,
      "id": "c9cdcd2e-8330-486c-a44f-b848f0dac8d1",
      "metadata": {
        "id": "c9cdcd2e-8330-486c-a44f-b848f0dac8d1"
      },
      "outputs": [],
      "source": [
        "mount = page.read()"
      ]
    },
    {
      "cell_type": "code",
      "execution_count": 34,
      "id": "4d2e1704-e101-486e-93c3-c3335c1ded0f",
      "metadata": {
        "colab": {
          "base_uri": "https://localhost:8080/"
        },
        "collapsed": true,
        "id": "4d2e1704-e101-486e-93c3-c3335c1ded0f",
        "outputId": "9765ddfa-8d5c-4cbd-b05d-9f34b5004edf"
      },
      "outputs": [
        {
          "output_type": "stream",
          "name": "stdout",
          "text": [
            "<class 'bytes'>\n"
          ]
        }
      ],
      "source": [
        "print(type(mount))"
      ]
    },
    {
      "cell_type": "code",
      "execution_count": 39,
      "id": "5f363399-9035-4c4c-8b19-bc92bbcdd5c7",
      "metadata": {
        "id": "5f363399-9035-4c4c-8b19-bc92bbcdd5c7"
      },
      "outputs": [],
      "source": [
        "mount = mount.decode('utf-8')"
      ]
    },
    {
      "cell_type": "code",
      "execution_count": 40,
      "id": "c62802b5-799a-42b4-9e8f-21c86f241c2d",
      "metadata": {
        "colab": {
          "base_uri": "https://localhost:8080/"
        },
        "id": "c62802b5-799a-42b4-9e8f-21c86f241c2d",
        "outputId": "ad7b5143-d35d-4d36-e64d-5b3efb4baf1f"
      },
      "outputs": [
        {
          "output_type": "execute_result",
          "data": {
            "text/plain": [
              "str"
            ]
          },
          "metadata": {},
          "execution_count": 40
        }
      ],
      "source": [
        "type(mount)"
      ]
    },
    {
      "cell_type": "code",
      "execution_count": 41,
      "id": "e90251d0-2d5e-40c2-b563-a8bc05e4abb4",
      "metadata": {
        "colab": {
          "base_uri": "https://localhost:8080/"
        },
        "id": "e90251d0-2d5e-40c2-b563-a8bc05e4abb4",
        "outputId": "c41b727c-362c-4675-a24c-c5654ca86d7a"
      },
      "outputs": [
        {
          "output_type": "execute_result",
          "data": {
            "text/plain": [
              "643"
            ]
          },
          "metadata": {},
          "execution_count": 41
        }
      ],
      "source": [
        "start_index = mount.find('<title>')\n",
        "start_index"
      ]
    },
    {
      "cell_type": "code",
      "execution_count": 43,
      "id": "39d717a6-2fbc-4e75-bc8e-9872c7fac986",
      "metadata": {
        "colab": {
          "base_uri": "https://localhost:8080/"
        },
        "id": "39d717a6-2fbc-4e75-bc8e-9872c7fac986",
        "outputId": "68943bfc-20b2-473b-fb18-bd96b2bd8d1f"
      },
      "outputs": [
        {
          "output_type": "execute_result",
          "data": {
            "text/plain": [
              "675"
            ]
          },
          "metadata": {},
          "execution_count": 43
        }
      ],
      "source": [
        "end_index =mount.find('</title>')\n",
        "end_index"
      ]
    },
    {
      "cell_type": "code",
      "execution_count": 44,
      "id": "463726cb-4b4b-4cdb-8a69-2889df0b8427",
      "metadata": {
        "colab": {
          "base_uri": "https://localhost:8080/",
          "height": 35
        },
        "id": "463726cb-4b4b-4cdb-8a69-2889df0b8427",
        "outputId": "2d597fb0-d54e-45b9-c641-8024d3e3bf75"
      },
      "outputs": [
        {
          "output_type": "execute_result",
          "data": {
            "text/plain": [
              "'<title>Mount Everest - Wikipedia'"
            ],
            "application/vnd.google.colaboratory.intrinsic+json": {
              "type": "string"
            }
          },
          "metadata": {},
          "execution_count": 44
        }
      ],
      "source": [
        "mount[start_index:end_index]"
      ]
    },
    {
      "cell_type": "code",
      "execution_count": 45,
      "id": "8aabeb0e-2407-46f4-8024-dc9de9b5e08a",
      "metadata": {
        "colab": {
          "base_uri": "https://localhost:8080/",
          "height": 35
        },
        "id": "8aabeb0e-2407-46f4-8024-dc9de9b5e08a",
        "outputId": "b3f2041d-3eb8-4ae1-ce6b-be5d720d81b8"
      },
      "outputs": [
        {
          "output_type": "execute_result",
          "data": {
            "text/plain": [
              "'Mount Everest - Wikipedia'"
            ],
            "application/vnd.google.colaboratory.intrinsic+json": {
              "type": "string"
            }
          },
          "metadata": {},
          "execution_count": 45
        }
      ],
      "source": [
        "mount[start_index+7:end_index]"
      ]
    },
    {
      "cell_type": "code",
      "execution_count": 52,
      "id": "58dc8a3c-2946-412e-bc06-0421d9fe5307",
      "metadata": {
        "colab": {
          "base_uri": "https://localhost:8080/"
        },
        "id": "58dc8a3c-2946-412e-bc06-0421d9fe5307",
        "outputId": "309c11ac-2d29-41ef-8c2d-04f5b5ba3d97"
      },
      "outputs": [
        {
          "output_type": "stream",
          "name": "stdout",
          "text": [
            "the title of this page is:    Mount Everest - Wikipedia\n"
          ]
        }
      ],
      "source": [
        "url = \"https://en.wikipedia.org/wiki/Mount_Everest\"\n",
        "page = urlopen(url)\n",
        "mount = page.read().decode(\"utf-8\")\n",
        "start_index = mount.find(\"<title>\") + 7\n",
        "end_index = mount.find(\"</title>\")\n",
        "title = mount[start_index:end_index]\n",
        "print('the title of this page is:   ', title)"
      ]
    },
    {
      "cell_type": "code",
      "execution_count": 196,
      "id": "08c99417-4427-423a-a9ff-a61faaf04087",
      "metadata": {
        "colab": {
          "base_uri": "https://localhost:8080/"
        },
        "id": "08c99417-4427-423a-a9ff-a61faaf04087",
        "outputId": "59f286d4-a60f-4323-dffd-c0e6b192738a"
      },
      "outputs": [
        {
          "output_type": "stream",
          "name": "stdout",
          "text": [
            "ans--number of times Mount occurs in the page is:  1288\n"
          ]
        }
      ],
      "source": [
        "#Find the count of Total “Mount” in the text.\n",
        "mount.count('Mount')\n",
        "print('ans--number of times Mount occurs in the page is: ', mount.count('Mount'))"
      ]
    },
    {
      "cell_type": "markdown",
      "source": [
        "Assignment part 2"
      ],
      "metadata": {
        "id": "yHvlAEO-GycM"
      },
      "id": "yHvlAEO-GycM"
    },
    {
      "cell_type": "code",
      "source": [
        "#read pdf and Print only page number 12 and 13 from it.\n",
        "#Save this contents in a file nlp."
      ],
      "metadata": {
        "id": "dox-AwcIGw0k"
      },
      "id": "dox-AwcIGw0k",
      "execution_count": 53,
      "outputs": []
    },
    {
      "cell_type": "markdown",
      "id": "2b5b5960-99fa-45df-83ec-cb693504c347",
      "metadata": {
        "id": "2b5b5960-99fa-45df-83ec-cb693504c347"
      },
      "source": [
        "##### Beautiful Soup"
      ]
    },
    {
      "cell_type": "code",
      "execution_count": 54,
      "id": "2169fa71-eb61-47ef-b6e3-4c16bbf650fc",
      "metadata": {
        "colab": {
          "base_uri": "https://localhost:8080/"
        },
        "id": "2169fa71-eb61-47ef-b6e3-4c16bbf650fc",
        "outputId": "59ac8ae0-e018-4892-ecc6-4c0d9f2358f3"
      },
      "outputs": [
        {
          "output_type": "stream",
          "name": "stdout",
          "text": [
            "Collecting bs4\n",
            "  Downloading bs4-0.0.2-py2.py3-none-any.whl (1.2 kB)\n",
            "Requirement already satisfied: beautifulsoup4 in /usr/local/lib/python3.10/dist-packages (from bs4) (4.12.3)\n",
            "Requirement already satisfied: soupsieve>1.2 in /usr/local/lib/python3.10/dist-packages (from beautifulsoup4->bs4) (2.5)\n",
            "Installing collected packages: bs4\n",
            "Successfully installed bs4-0.0.2\n"
          ]
        }
      ],
      "source": [
        "pip install bs4"
      ]
    },
    {
      "cell_type": "code",
      "execution_count": 55,
      "id": "d97a9a1b-b8dc-4ee6-a74a-d51448214605",
      "metadata": {
        "id": "d97a9a1b-b8dc-4ee6-a74a-d51448214605"
      },
      "outputs": [],
      "source": [
        "from bs4 import BeautifulSoup\n",
        "from urllib.request import urlopen"
      ]
    },
    {
      "cell_type": "code",
      "execution_count": 78,
      "id": "290e502b-81e2-4ec6-bbc8-05159af3d0be",
      "metadata": {
        "id": "290e502b-81e2-4ec6-bbc8-05159af3d0be"
      },
      "outputs": [],
      "source": [
        "#url = \"https://www.london.ac.uk/sites/default/files/study-guides/introduction-to-natural-language-processing.pdf\"\n",
        "#page = urlopen(url)\n",
        "#html = page.read()\n",
        "#html = page.read().decode(\"utf-8\")\n",
        "#soup = BeautifulSoup(html, \"html.parser\")"
      ]
    },
    {
      "cell_type": "code",
      "execution_count": 79,
      "id": "6ace379a-9443-4e9a-998d-4c91d79919d0",
      "metadata": {
        "id": "6ace379a-9443-4e9a-998d-4c91d79919d0"
      },
      "outputs": [],
      "source": [
        "#nlp = soup.get_text()"
      ]
    },
    {
      "cell_type": "code",
      "execution_count": 80,
      "id": "342af4dc-6c8b-4d99-bdab-7e8e3c0012af",
      "metadata": {
        "id": "342af4dc-6c8b-4d99-bdab-7e8e3c0012af"
      },
      "outputs": [],
      "source": [
        "#print(nlp)"
      ]
    },
    {
      "cell_type": "code",
      "execution_count": 81,
      "id": "5551742c-d99a-4a01-80a2-cb0724b7461a",
      "metadata": {
        "id": "5551742c-d99a-4a01-80a2-cb0724b7461a"
      },
      "outputs": [],
      "source": [
        "#soup.find_all('img')\n",
        "#soup.title\n",
        "#soup.title.string"
      ]
    },
    {
      "cell_type": "code",
      "execution_count": 82,
      "id": "31d4f15c-825e-490a-a6c5-7ba55572d65a",
      "metadata": {
        "id": "31d4f15c-825e-490a-a6c5-7ba55572d65a"
      },
      "outputs": [],
      "source": [
        "#url = \"https#://mr.wikipedia.org/wiki/%E0%A4%B6%E0%A5%81%E0%A4%95%E0%A5%8D%E0%A4%B0_%E0%A4%97%E0%A5%8D%E0%A4%B0%E0%A4%B9\"\n",
        "#page = urlopen(url)\n",
        "#html = page.read().decode(\"utf-8\")\n",
        "#soup = BeautifulSoup(html, \"html.parser\")\n",
        "#txt = soup.get_text()\n",
        "#print(txt)"
      ]
    },
    {
      "cell_type": "code",
      "execution_count": 83,
      "id": "d811baf2-e1ab-45fb-80c0-192b91a0c63f",
      "metadata": {
        "id": "d811baf2-e1ab-45fb-80c0-192b91a0c63f"
      },
      "outputs": [],
      "source": [
        "#soup.title.string"
      ]
    },
    {
      "cell_type": "code",
      "execution_count": 84,
      "id": "152e72e0-857d-4e43-b065-cc877b568be8",
      "metadata": {
        "id": "152e72e0-857d-4e43-b065-cc877b568be8"
      },
      "outputs": [],
      "source": [
        "#txt.count('शुक्र')"
      ]
    },
    {
      "cell_type": "code",
      "execution_count": 85,
      "id": "8463a5ff-a28c-4c44-a982-226ad3ddaea9",
      "metadata": {
        "id": "8463a5ff-a28c-4c44-a982-226ad3ddaea9"
      },
      "outputs": [],
      "source": [
        "#txt.split()"
      ]
    },
    {
      "cell_type": "code",
      "execution_count": 86,
      "id": "1e51e217-781f-462f-a564-ab366673505d",
      "metadata": {
        "id": "1e51e217-781f-462f-a564-ab366673505d"
      },
      "outputs": [],
      "source": [
        "#for word in txt.split():\n",
        "    #if word.startswith('क'):\n",
        "        #print(word)"
      ]
    },
    {
      "cell_type": "markdown",
      "id": "bf3cb4bb-338d-45bb-8b38-7fba791f4259",
      "metadata": {
        "id": "bf3cb4bb-338d-45bb-8b38-7fba791f4259"
      },
      "source": [
        "#### Extract the data from pdf / docsx file"
      ]
    },
    {
      "cell_type": "code",
      "execution_count": 87,
      "id": "7a8a2897-f1ec-4b0a-8dbf-7bedf64f2179",
      "metadata": {
        "colab": {
          "base_uri": "https://localhost:8080/"
        },
        "id": "7a8a2897-f1ec-4b0a-8dbf-7bedf64f2179",
        "outputId": "304487b7-d6da-4ea8-a142-e0272110d9a7"
      },
      "outputs": [
        {
          "output_type": "stream",
          "name": "stdout",
          "text": [
            "Collecting pypdf\n",
            "  Downloading pypdf-4.2.0-py3-none-any.whl (290 kB)\n",
            "\u001b[2K     \u001b[90m━━━━━━━━━━━━━━━━━━━━━━━━━━━━━━━━━━━━━━━━\u001b[0m \u001b[32m290.4/290.4 kB\u001b[0m \u001b[31m5.5 MB/s\u001b[0m eta \u001b[36m0:00:00\u001b[0m\n",
            "\u001b[?25hCollecting Spire.Doc\n",
            "  Downloading Spire.Doc-12.4.0-py3-none-manylinux1_x86_64.whl (43.2 MB)\n",
            "\u001b[2K     \u001b[90m━━━━━━━━━━━━━━━━━━━━━━━━━━━━━━━━━━━━━━━━\u001b[0m \u001b[32m43.2/43.2 MB\u001b[0m \u001b[31m19.4 MB/s\u001b[0m eta \u001b[36m0:00:00\u001b[0m\n",
            "\u001b[?25hRequirement already satisfied: typing_extensions>=4.0 in /usr/local/lib/python3.10/dist-packages (from pypdf) (4.11.0)\n",
            "Collecting plum-dispatch==1.7.4 (from Spire.Doc)\n",
            "  Downloading plum_dispatch-1.7.4-py3-none-any.whl (24 kB)\n",
            "Installing collected packages: pypdf, plum-dispatch, Spire.Doc\n",
            "Successfully installed Spire.Doc-12.4.0 plum-dispatch-1.7.4 pypdf-4.2.0\n"
          ]
        }
      ],
      "source": [
        "pip install pypdf Spire.Doc -U"
      ]
    },
    {
      "cell_type": "code",
      "execution_count": 88,
      "id": "e9b85f63-aaad-42b7-a6a7-c75a519c4819",
      "metadata": {
        "colab": {
          "base_uri": "https://localhost:8080/",
          "height": 35
        },
        "id": "e9b85f63-aaad-42b7-a6a7-c75a519c4819",
        "outputId": "e6d3f500-81ab-40b9-b9ce-61e3cf522716"
      },
      "outputs": [
        {
          "output_type": "execute_result",
          "data": {
            "text/plain": [
              "'/content'"
            ],
            "application/vnd.google.colaboratory.intrinsic+json": {
              "type": "string"
            }
          },
          "metadata": {},
          "execution_count": 88
        }
      ],
      "source": [
        "# Files: introduction_to_natural_language_processing.pdf\n",
        "# Location: https://www.london.ac.uk/sites/default/files/study-guides/introduction-to-natural-language-processing.pdf\n",
        "import os\n",
        "os.getcwd()"
      ]
    },
    {
      "cell_type": "markdown",
      "id": "b85d4799-a52e-418e-9f98-ed19564be23b",
      "metadata": {
        "id": "b85d4799-a52e-418e-9f98-ed19564be23b"
      },
      "source": [
        "##### Read from pdf"
      ]
    },
    {
      "cell_type": "code",
      "execution_count": 130,
      "id": "000ade07-eb10-429d-ae82-148926b46eb0",
      "metadata": {
        "colab": {
          "base_uri": "https://localhost:8080/"
        },
        "id": "000ade07-eb10-429d-ae82-148926b46eb0",
        "outputId": "1458beca-a980-467e-d61d-e609f3f4c05c"
      },
      "outputs": [
        {
          "output_type": "stream",
          "name": "stdout",
          "text": [
            "Requirement already satisfied: pypdf in /usr/local/lib/python3.10/dist-packages (4.2.0)\n",
            "Requirement already satisfied: typing_extensions>=4.0 in /usr/local/lib/python3.10/dist-packages (from pypdf) (4.11.0)\n",
            "Requirement already satisfied: PyPDF2 in /usr/local/lib/python3.10/dist-packages (3.0.1)\n",
            "Name: PyPDF2\n",
            "Version: 3.0.1\n",
            "Summary: A pure-python PDF library capable of splitting, merging, cropping, and transforming PDF files\n",
            "Home-page: \n",
            "Author: \n",
            "Author-email: Mathieu Fenniak <biziqe@mathieu.fenniak.net>\n",
            "License: \n",
            "Location: /usr/local/lib/python3.10/dist-packages\n",
            "Requires: \n",
            "Required-by: \n"
          ]
        }
      ],
      "source": [
        "# import the class for reading pdf\n",
        "!pip install pypdf\n",
        "!pip install PyPDF2\n",
        "!pip show PyPDF2\n",
        "import PyPDF2\n",
        "import io"
      ]
    },
    {
      "cell_type": "code",
      "source": [
        "#from pypdf import PdfReader\n",
        "from urllib.request import Request, urlopen\n",
        "from PyPDF2 import PdfWriter, PdfReader\n",
        "from io import StringIO"
      ],
      "metadata": {
        "id": "nVEGtrGiOqUY"
      },
      "id": "nVEGtrGiOqUY",
      "execution_count": 131,
      "outputs": []
    },
    {
      "cell_type": "code",
      "execution_count": 95,
      "id": "c354105f-d016-458e-b757-1a24bc8aa03b",
      "metadata": {
        "id": "c354105f-d016-458e-b757-1a24bc8aa03b"
      },
      "outputs": [],
      "source": []
    },
    {
      "cell_type": "code",
      "source": [
        "url = \"https://www.london.ac.uk/sites/default/files/study-guides/introduction-to-natural-language-processing.pdf\"\n",
        "remoteFile = urlopen(Request(url)).read()\n",
        "#pdfFile = PyPDF2.PdfReader(remoteFile)\n",
        "#memoryFile = io.BytesIO(remoteFile)\n",
        "#pdfFile = PyPDF2.PdfReader(memoryFile)"
      ],
      "metadata": {
        "id": "BXoPzcOuOhxS"
      },
      "id": "BXoPzcOuOhxS",
      "execution_count": 181,
      "outputs": []
    },
    {
      "cell_type": "code",
      "execution_count": 133,
      "id": "d6b91442-8b6b-46b2-b389-4616806402f9",
      "metadata": {
        "colab": {
          "base_uri": "https://localhost:8080/"
        },
        "id": "d6b91442-8b6b-46b2-b389-4616806402f9",
        "outputId": "66e2c415-deb0-4cc9-e121-75a5399105ec"
      },
      "outputs": [
        {
          "output_type": "stream",
          "name": "stdout",
          "text": [
            "Total pages:  52\n"
          ]
        }
      ],
      "source": [
        "#print('Total pages: ', len(pdfFile.pages))"
      ]
    },
    {
      "cell_type": "code",
      "source": [
        "# getting a specific page from the pdf file\n",
        "##page11 = pdfFile.pages[0]\n",
        "page12 = pdfFile.pages[11]"
      ],
      "metadata": {
        "id": "HnOmAjDxZWbG"
      },
      "id": "HnOmAjDxZWbG",
      "execution_count": 176,
      "outputs": []
    },
    {
      "cell_type": "code",
      "execution_count": 179,
      "id": "98f3e186-5c56-446b-9df4-be4731fbd399",
      "metadata": {
        "colab": {
          "base_uri": "https://localhost:8080/"
        },
        "id": "98f3e186-5c56-446b-9df4-be4731fbd399",
        "outputId": "51c515e1-8196-4173-b656-ae48fce716c0"
      },
      "outputs": [
        {
          "output_type": "stream",
          "name": "stdout",
          "text": [
            "{'/Type': '/Page', '/CropBox': [0, 0, 595.276, 841.89], '/MediaBox': [0, 0, 595.276, 841.89], '/Rotate': 0, '/Resources': {'/Font': {'/F22': IndirectObject(89, 0, 136072420565888), '/F25': IndirectObject(98, 0, 136072420565888)}}, '/Contents': IndirectObject(117, 0, 136072420565888), '/Parent': IndirectObject(2, 0, 136072420565888)}\n"
          ]
        }
      ],
      "source": [
        "#print (page11)"
      ]
    },
    {
      "cell_type": "code",
      "source": [
        "#nlp = pdfFile.extract_text()\n",
        "#pages1 = pdfFile.pages"
      ],
      "metadata": {
        "id": "FC-71sgZZpoK"
      },
      "id": "FC-71sgZZpoK",
      "execution_count": null,
      "outputs": []
    },
    {
      "cell_type": "code",
      "execution_count": 169,
      "id": "46dfbc85-f307-4fd5-beb2-34f4ec46ae5c",
      "metadata": {
        "colab": {
          "base_uri": "https://localhost:8080/"
        },
        "id": "46dfbc85-f307-4fd5-beb2-34f4ec46ae5c",
        "outputId": "bbb5ffb9-e7e4-48af-8c5d-13e79f3b153e"
      },
      "outputs": [
        {
          "output_type": "execute_result",
          "data": {
            "text/plain": [
              "<PyPDF2._page._VirtualList at 0x7bc1d4659810>"
            ]
          },
          "metadata": {},
          "execution_count": 169
        }
      ],
      "source": [
        "#pages1"
      ]
    },
    {
      "cell_type": "code",
      "execution_count": 182,
      "id": "e6e36e16-b757-4ae5-9e1e-a409f8cec71c",
      "metadata": {
        "id": "e6e36e16-b757-4ae5-9e1e-a409f8cec71c"
      },
      "outputs": [],
      "source": [
        "#text = pages1.extract_text()"
      ]
    },
    {
      "cell_type": "code",
      "execution_count": 183,
      "id": "3b210791-91ad-4679-9de1-6a130b0b9e3e",
      "metadata": {
        "id": "3b210791-91ad-4679-9de1-6a130b0b9e3e"
      },
      "outputs": [],
      "source": [
        "#print(text)"
      ]
    },
    {
      "cell_type": "code",
      "execution_count": 141,
      "id": "9dfe8355-1782-4b98-abbe-8b9bb546fa6b",
      "metadata": {
        "id": "9dfe8355-1782-4b98-abbe-8b9bb546fa6b"
      },
      "outputs": [],
      "source": [
        "#count = 1\n",
        "#for page in pdfFile.pages:\n",
        "    #print('\\t\\t\\t\\t\\t\\tPage:', count)\n",
        "    #print(page.extract_text())\n",
        "    #count += 1"
      ]
    },
    {
      "cell_type": "code",
      "execution_count": 142,
      "id": "9419d365-2200-452b-84ff-f84f9a59d526",
      "metadata": {
        "id": "9419d365-2200-452b-84ff-f84f9a59d526"
      },
      "outputs": [],
      "source": [
        "#data = ''\n",
        "#for page in pdfFile.pages:\n",
        "    #data += page.extract_text()"
      ]
    },
    {
      "cell_type": "code",
      "execution_count": null,
      "id": "18f319f3-8139-4802-852e-4692f8e24d87",
      "metadata": {
        "id": "18f319f3-8139-4802-852e-4692f8e24d87"
      },
      "outputs": [],
      "source": [
        "#print(data)"
      ]
    },
    {
      "cell_type": "code",
      "execution_count": 143,
      "id": "cfd8aa8f-7166-458d-8f60-397dcbb93493",
      "metadata": {
        "colab": {
          "base_uri": "https://localhost:8080/"
        },
        "id": "cfd8aa8f-7166-458d-8f60-397dcbb93493",
        "outputId": "ad0b8a71-996c-485d-b20f-eedd83b092be"
      },
      "outputs": [
        {
          "output_type": "execute_result",
          "data": {
            "text/plain": [
              "119"
            ]
          },
          "metadata": {},
          "execution_count": 143
        }
      ],
      "source": [
        "#data.count('The')"
      ]
    },
    {
      "cell_type": "code",
      "execution_count": null,
      "id": "bf1e7925-5261-4d74-ae83-5250cb56a11a",
      "metadata": {
        "id": "bf1e7925-5261-4d74-ae83-5250cb56a11a"
      },
      "outputs": [],
      "source": [
        "#f = open('course.txt', 'w', encoding=\"utf-8\")"
      ]
    },
    {
      "cell_type": "code",
      "execution_count": 184,
      "id": "66cb9652-fd68-4e86-86a1-fd508b69730a",
      "metadata": {
        "id": "66cb9652-fd68-4e86-86a1-fd508b69730a"
      },
      "outputs": [],
      "source": [
        "#f.write(data)\n",
        "#f.close()"
      ]
    },
    {
      "cell_type": "code",
      "source": [
        "!pip install requests\n",
        "import requests"
      ],
      "metadata": {
        "colab": {
          "base_uri": "https://localhost:8080/"
        },
        "id": "fzsFm1qdo9bC",
        "outputId": "2ff41450-3c8a-44c0-c4c5-2bee171f411a"
      },
      "id": "fzsFm1qdo9bC",
      "execution_count": 190,
      "outputs": [
        {
          "output_type": "stream",
          "name": "stdout",
          "text": [
            "Requirement already satisfied: requests in /usr/local/lib/python3.10/dist-packages (2.31.0)\n",
            "Requirement already satisfied: charset-normalizer<4,>=2 in /usr/local/lib/python3.10/dist-packages (from requests) (3.3.2)\n",
            "Requirement already satisfied: idna<4,>=2.5 in /usr/local/lib/python3.10/dist-packages (from requests) (3.7)\n",
            "Requirement already satisfied: urllib3<3,>=1.21.1 in /usr/local/lib/python3.10/dist-packages (from requests) (2.0.7)\n",
            "Requirement already satisfied: certifi>=2017.4.17 in /usr/local/lib/python3.10/dist-packages (from requests) (2024.2.2)\n"
          ]
        }
      ]
    },
    {
      "cell_type": "code",
      "source": [
        "response = requests.get(\"https://www.london.ac.uk/sites/default/files/study-guides/introduction-to-natural-language-processing.pdf\")\n",
        "pdf_io_bytes = io.BytesIO(response.content)\n",
        "my_pdf = PyPDF2.PdfReader(pdf_io_bytes)\n",
        "text_list = []\n",
        "num_pages = len(my_pdf.pages)"
      ],
      "metadata": {
        "id": "Io1Dr3vqoqik"
      },
      "id": "Io1Dr3vqoqik",
      "execution_count": 193,
      "outputs": []
    },
    {
      "cell_type": "code",
      "source": [
        "for page in range(num_pages):\n",
        "    page_text = my_pdf.pages[page].extract_text()\n",
        "    text_list.append(page_text)\n",
        "nlp = \"\\n\".join(text_list)"
      ],
      "metadata": {
        "id": "dBHDfz7vouuS"
      },
      "id": "dBHDfz7vouuS",
      "execution_count": 194,
      "outputs": []
    },
    {
      "cell_type": "code",
      "source": [
        "print(my_pdf.pages[10])"
      ],
      "metadata": {
        "colab": {
          "base_uri": "https://localhost:8080/"
        },
        "id": "atVmc8eSpgC8",
        "outputId": "edfad955-ff6b-46b2-fbc7-9d480a005dbf"
      },
      "id": "atVmc8eSpgC8",
      "execution_count": 195,
      "outputs": [
        {
          "output_type": "stream",
          "name": "stdout",
          "text": [
            "{'/Type': '/Page', '/CropBox': [0, 0, 595.276, 841.89], '/MediaBox': [0, 0, 595.276, 841.89], '/Rotate': 0, '/Resources': {'/Font': {'/F22': IndirectObject(89, 0, 136072337024544), '/F25': IndirectObject(98, 0, 136072337024544)}}, '/Contents': IndirectObject(117, 0, 136072337024544), '/Parent': IndirectObject(2, 0, 136072337024544)}\n"
          ]
        }
      ]
    },
    {
      "cell_type": "markdown",
      "id": "c6552d82-a41d-4b67-8411-ea40435c826a",
      "metadata": {
        "id": "c6552d82-a41d-4b67-8411-ea40435c826a"
      },
      "source": [
        "##### Reading the .docx file"
      ]
    },
    {
      "cell_type": "code",
      "source": [],
      "metadata": {
        "colab": {
          "base_uri": "https://localhost:8080/",
          "height": 211
        },
        "id": "DHcaRI5boUEG",
        "outputId": "ddeb57cb-2b29-4112-a1a3-4ad5f9656b89"
      },
      "id": "DHcaRI5boUEG",
      "execution_count": 186,
      "outputs": [
        {
          "output_type": "error",
          "ename": "NameError",
          "evalue": "name 'request' is not defined",
          "traceback": [
            "\u001b[0;31m---------------------------------------------------------------------------\u001b[0m",
            "\u001b[0;31mNameError\u001b[0m                                 Traceback (most recent call last)",
            "\u001b[0;32m<ipython-input-186-058667e783ed>\u001b[0m in \u001b[0;36m<cell line: 1>\u001b[0;34m()\u001b[0m\n\u001b[0;32m----> 1\u001b[0;31m \u001b[0mresponse\u001b[0m \u001b[0;34m=\u001b[0m \u001b[0mrequest\u001b[0m\u001b[0;34m.\u001b[0m\u001b[0mget\u001b[0m\u001b[0;34m(\u001b[0m\u001b[0;34m\"https://www.london.ac.uk/sites/default/files/study-guides/introduction-to-natural-language-processing.pdf\"\u001b[0m\u001b[0;34m)\u001b[0m\u001b[0;34m\u001b[0m\u001b[0;34m\u001b[0m\u001b[0m\n\u001b[0m\u001b[1;32m      2\u001b[0m \u001b[0mpdf_io_bytes\u001b[0m \u001b[0;34m=\u001b[0m \u001b[0mio\u001b[0m\u001b[0;34m.\u001b[0m\u001b[0mBytesIO\u001b[0m\u001b[0;34m(\u001b[0m\u001b[0mresponse\u001b[0m\u001b[0;34m.\u001b[0m\u001b[0mcontent\u001b[0m\u001b[0;34m)\u001b[0m\u001b[0;34m\u001b[0m\u001b[0;34m\u001b[0m\u001b[0m\n\u001b[1;32m      3\u001b[0m \u001b[0mpdf\u001b[0m \u001b[0;34m=\u001b[0m \u001b[0mPyPDF2\u001b[0m\u001b[0;34m.\u001b[0m\u001b[0mPdfReader\u001b[0m\u001b[0;34m(\u001b[0m\u001b[0mpdf_io_bytes\u001b[0m\u001b[0;34m)\u001b[0m\u001b[0;34m\u001b[0m\u001b[0;34m\u001b[0m\u001b[0m\n\u001b[1;32m      4\u001b[0m \u001b[0mtext_list\u001b[0m \u001b[0;34m=\u001b[0m \u001b[0;34m[\u001b[0m\u001b[0;34m]\u001b[0m\u001b[0;34m\u001b[0m\u001b[0;34m\u001b[0m\u001b[0m\n\u001b[1;32m      5\u001b[0m \u001b[0;34m\u001b[0m\u001b[0m\n",
            "\u001b[0;31mNameError\u001b[0m: name 'request' is not defined"
          ]
        }
      ]
    },
    {
      "cell_type": "code",
      "execution_count": 148,
      "id": "19db1355-b959-432d-83f2-929da80de643",
      "metadata": {
        "id": "19db1355-b959-432d-83f2-929da80de643"
      },
      "outputs": [],
      "source": [
        "# import the class\n",
        "#from spire.doc import Document"
      ]
    },
    {
      "cell_type": "code",
      "execution_count": 149,
      "id": "60591168-4457-45c7-baa0-f15ddc95343a",
      "metadata": {
        "id": "60591168-4457-45c7-baa0-f15ddc95343a"
      },
      "outputs": [],
      "source": [
        "# create the object\n",
        "#document = Document()"
      ]
    },
    {
      "cell_type": "code",
      "execution_count": 150,
      "id": "59b131d9-0abd-4016-9679-3ff173afc384",
      "metadata": {
        "id": "59b131d9-0abd-4016-9679-3ff173afc384"
      },
      "outputs": [],
      "source": [
        "# load the file\n",
        "#document.LoadFromFile('spp.docx')"
      ]
    },
    {
      "cell_type": "code",
      "execution_count": 151,
      "id": "953259ab-52c6-4a11-9bd0-2a4bc9dd1cfc",
      "metadata": {
        "id": "953259ab-52c6-4a11-9bd0-2a4bc9dd1cfc"
      },
      "outputs": [],
      "source": [
        "#document_text = document.GetText()"
      ]
    },
    {
      "cell_type": "code",
      "execution_count": 152,
      "id": "9f010a77-72c7-48f1-8f4f-fc3a2d0d1bba",
      "metadata": {
        "id": "9f010a77-72c7-48f1-8f4f-fc3a2d0d1bba"
      },
      "outputs": [],
      "source": [
        "#print(document_text)"
      ]
    },
    {
      "cell_type": "code",
      "execution_count": 153,
      "id": "ae063116-a555-4028-9564-47888f4e093b",
      "metadata": {
        "id": "ae063116-a555-4028-9564-47888f4e093b"
      },
      "outputs": [],
      "source": [
        "# Get the first section in the document\n",
        "#section = document.Sections[0]"
      ]
    },
    {
      "cell_type": "code",
      "execution_count": 155,
      "id": "3e0a24d1-652b-4102-846a-509fda361de7",
      "metadata": {
        "id": "3e0a24d1-652b-4102-846a-509fda361de7"
      },
      "outputs": [],
      "source": [
        "# Get the paragraph from section\n",
        "#paragraph = section.Paragraphs[1]\n",
        "#paragraph.Text"
      ]
    },
    {
      "cell_type": "code",
      "execution_count": 156,
      "id": "bb59dac5-dcec-4022-a1d4-38bf399d5a86",
      "metadata": {
        "id": "bb59dac5-dcec-4022-a1d4-38bf399d5a86"
      },
      "outputs": [],
      "source": [
        "#paragraph = section.Paragraphs[5]\n",
        "#paragraph.Text"
      ]
    },
    {
      "cell_type": "code",
      "execution_count": null,
      "id": "eab0f88c-38fc-4b37-9d75-9b84a056f450",
      "metadata": {
        "id": "eab0f88c-38fc-4b37-9d75-9b84a056f450"
      },
      "outputs": [],
      "source": [
        "#from spire.doc import FixedLayoutDocument"
      ]
    },
    {
      "cell_type": "code",
      "execution_count": 157,
      "id": "3b8d0420-b484-4983-9407-18d78e643b71",
      "metadata": {
        "id": "3b8d0420-b484-4983-9407-18d78e643b71"
      },
      "outputs": [],
      "source": [
        "#layoutDoc = FixedLayoutDocument(document)"
      ]
    },
    {
      "cell_type": "code",
      "execution_count": 158,
      "id": "3ff3e452-d80e-4ba3-92b0-cbbe992bc06d",
      "metadata": {
        "id": "3ff3e452-d80e-4ba3-92b0-cbbe992bc06d"
      },
      "outputs": [],
      "source": [
        "# retrieve the pages\n",
        "#layoutPage = layoutDoc.Pages[0]"
      ]
    },
    {
      "cell_type": "code",
      "execution_count": 159,
      "id": "46524136-5afe-4337-a9be-2ff8e228b009",
      "metadata": {
        "id": "46524136-5afe-4337-a9be-2ff8e228b009"
      },
      "outputs": [],
      "source": [
        "#print(layoutPage.Text)"
      ]
    },
    {
      "cell_type": "code",
      "execution_count": 160,
      "id": "05abdbac-1937-479f-b721-afc3d523e208",
      "metadata": {
        "id": "05abdbac-1937-479f-b721-afc3d523e208"
      },
      "outputs": [],
      "source": [
        "#len(layoutDoc.Pages)"
      ]
    },
    {
      "cell_type": "code",
      "execution_count": 162,
      "id": "ecc69c29-9d77-490f-894b-245f0defb03f",
      "metadata": {
        "id": "ecc69c29-9d77-490f-894b-245f0defb03f"
      },
      "outputs": [],
      "source": [
        "#count = 1\n",
        "#for page in layoutDoc.Pages:\n",
        "    #try:\n",
        "        #print('\\t\\t\\t\\t\\tPage:', count)\n",
        "        #print(page.Text)\n",
        "        #count += 1\n",
        "    #except Exception:\n",
        "        #break"
      ]
    },
    {
      "cell_type": "code",
      "execution_count": 163,
      "id": "d7bdff6b-9786-4784-a44b-1682c980d62b",
      "metadata": {
        "id": "d7bdff6b-9786-4784-a44b-1682c980d62b"
      },
      "outputs": [],
      "source": [
        "#page = layoutDoc.Pages[1]"
      ]
    },
    {
      "cell_type": "code",
      "execution_count": 164,
      "id": "aa5e42b9-41b3-4452-a791-41fb535e154f",
      "metadata": {
        "id": "aa5e42b9-41b3-4452-a791-41fb535e154f"
      },
      "outputs": [],
      "source": [
        "#line = page.Columns[0].Lines[2]"
      ]
    },
    {
      "cell_type": "code",
      "execution_count": 165,
      "id": "d416ca60-9a7b-4b84-9db6-6eadd0aca823",
      "metadata": {
        "id": "d416ca60-9a7b-4b84-9db6-6eadd0aca823"
      },
      "outputs": [],
      "source": [
        "#print(line.Text)"
      ]
    },
    {
      "cell_type": "code",
      "execution_count": null,
      "id": "cecc5747-439f-4b23-ae6d-b2c02e3fdb40",
      "metadata": {
        "id": "cecc5747-439f-4b23-ae6d-b2c02e3fdb40"
      },
      "outputs": [],
      "source": []
    }
  ],
  "metadata": {
    "kernelspec": {
      "display_name": "Python 3 (ipykernel)",
      "language": "python",
      "name": "python3"
    },
    "language_info": {
      "codemirror_mode": {
        "name": "ipython",
        "version": 3
      },
      "file_extension": ".py",
      "mimetype": "text/x-python",
      "name": "python",
      "nbconvert_exporter": "python",
      "pygments_lexer": "ipython3",
      "version": "3.10.12"
    },
    "colab": {
      "provenance": []
    }
  },
  "nbformat": 4,
  "nbformat_minor": 5
}