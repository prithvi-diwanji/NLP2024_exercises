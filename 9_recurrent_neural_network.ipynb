{
  "nbformat": 4,
  "nbformat_minor": 0,
  "metadata": {
    "colab": {
      "provenance": [],
      "authorship_tag": "ABX9TyOSSwCJhFov/Nfq8rfOUXgy",
      "include_colab_link": true
    },
    "kernelspec": {
      "name": "python3",
      "display_name": "Python 3"
    },
    "language_info": {
      "name": "python"
    }
  },
  "cells": [
    {
      "cell_type": "markdown",
      "metadata": {
        "id": "view-in-github",
        "colab_type": "text"
      },
      "source": [
        "<a href=\"https://colab.research.google.com/github/prithvi-diwanji/NLP2024_exercises/blob/main/9_recurrent_neural_network.ipynb\" target=\"_parent\"><img src=\"https://colab.research.google.com/assets/colab-badge.svg\" alt=\"Open In Colab\"/></a>"
      ]
    },
    {
      "cell_type": "code",
      "execution_count": 1,
      "metadata": {
        "id": "hvowCG4yXUmn"
      },
      "outputs": [],
      "source": [
        "alphabets = 'ABCDEFGHIJKLMNOPQRSTUVWXYZ'"
      ]
    },
    {
      "cell_type": "code",
      "source": [
        "#train neural data on ths simple data to learn sequence"
      ],
      "metadata": {
        "id": "GboB9dNhXetQ"
      },
      "execution_count": 2,
      "outputs": []
    },
    {
      "cell_type": "code",
      "source": [
        "#what is input data for this supervised learning? what is output data?\n",
        "# abcdef is input bcdef is output? - the next output in sequence"
      ],
      "metadata": {
        "id": "BmNE7wLmXv8g"
      },
      "execution_count": 3,
      "outputs": []
    },
    {
      "cell_type": "code",
      "source": [
        "#also this needs to be converted to numerical form without tfidf\n",
        "#simple encoding"
      ],
      "metadata": {
        "id": "iBBb9D5rYIdM"
      },
      "execution_count": 4,
      "outputs": []
    },
    {
      "cell_type": "code",
      "source": [
        "#LSTM long short term memory network"
      ],
      "metadata": {
        "id": "jBF9KT0UYQJ7"
      },
      "execution_count": 5,
      "outputs": []
    },
    {
      "cell_type": "code",
      "source": [
        "list(enumerate(alphabets)) #enumerate function - to assing numbers to data"
      ],
      "metadata": {
        "colab": {
          "base_uri": "https://localhost:8080/"
        },
        "id": "06LU9h0sYWVg",
        "outputId": "29debc7a-6782-451b-ba45-afd33b3b682f"
      },
      "execution_count": 7,
      "outputs": [
        {
          "output_type": "execute_result",
          "data": {
            "text/plain": [
              "[(0, 'A'),\n",
              " (1, 'B'),\n",
              " (2, 'C'),\n",
              " (3, 'D'),\n",
              " (4, 'E'),\n",
              " (5, 'F'),\n",
              " (6, 'G'),\n",
              " (7, 'H'),\n",
              " (8, 'I'),\n",
              " (9, 'J'),\n",
              " (10, 'K'),\n",
              " (11, 'L'),\n",
              " (12, 'M'),\n",
              " (13, 'N'),\n",
              " (14, 'O'),\n",
              " (15, 'P'),\n",
              " (16, 'Q'),\n",
              " (17, 'R'),\n",
              " (18, 'S'),\n",
              " (19, 'T'),\n",
              " (20, 'U'),\n",
              " (21, 'V'),\n",
              " (22, 'W'),\n",
              " (23, 'X'),\n",
              " (24, 'Y'),\n",
              " (25, 'Z')]"
            ]
          },
          "metadata": {},
          "execution_count": 7
        }
      ]
    },
    {
      "cell_type": "code",
      "source": [
        "# i require two sorts of data - string to numerical and then decode back when results come"
      ],
      "metadata": {
        "id": "sHpuspSTYg5d"
      },
      "execution_count": 8,
      "outputs": []
    },
    {
      "cell_type": "code",
      "source": [
        "#so i require dictionary key an number value as character\n",
        "# and vice versa\n",
        "# use a technique called"
      ],
      "metadata": {
        "id": "RFTfJdQgYuiN"
      },
      "execution_count": 9,
      "outputs": []
    },
    {
      "cell_type": "code",
      "source": [
        "#prepare data\n",
        "for i, c in enumerate (alphabets):\n",
        "  print(i,c )"
      ],
      "metadata": {
        "colab": {
          "base_uri": "https://localhost:8080/"
        },
        "id": "4sO5nkiZY3Rv",
        "outputId": "1e27249b-a562-4561-c2c1-a3c353512a76"
      },
      "execution_count": 10,
      "outputs": [
        {
          "output_type": "stream",
          "name": "stdout",
          "text": [
            "0 A\n",
            "1 B\n",
            "2 C\n",
            "3 D\n",
            "4 E\n",
            "5 F\n",
            "6 G\n",
            "7 H\n",
            "8 I\n",
            "9 J\n",
            "10 K\n",
            "11 L\n",
            "12 M\n",
            "13 N\n",
            "14 O\n",
            "15 P\n",
            "16 Q\n",
            "17 R\n",
            "18 S\n",
            "19 T\n",
            "20 U\n",
            "21 V\n",
            "22 W\n",
            "23 X\n",
            "24 Y\n",
            "25 Z\n"
          ]
        }
      ]
    },
    {
      "cell_type": "code",
      "source": [
        "#this data we save in a dictionary\n",
        "int_to_char = dict((i,c) for i, c in enumerate(alphabets))"
      ],
      "metadata": {
        "id": "OvkVeZi4ZAup"
      },
      "execution_count": 15,
      "outputs": []
    },
    {
      "cell_type": "code",
      "source": [
        "int_to_char"
      ],
      "metadata": {
        "colab": {
          "base_uri": "https://localhost:8080/"
        },
        "id": "WphN4MGfZfhK",
        "outputId": "50232f4e-dc36-418c-a6f8-6c2510e65134"
      },
      "execution_count": 16,
      "outputs": [
        {
          "output_type": "execute_result",
          "data": {
            "text/plain": [
              "{0: 'A',\n",
              " 1: 'B',\n",
              " 2: 'C',\n",
              " 3: 'D',\n",
              " 4: 'E',\n",
              " 5: 'F',\n",
              " 6: 'G',\n",
              " 7: 'H',\n",
              " 8: 'I',\n",
              " 9: 'J',\n",
              " 10: 'K',\n",
              " 11: 'L',\n",
              " 12: 'M',\n",
              " 13: 'N',\n",
              " 14: 'O',\n",
              " 15: 'P',\n",
              " 16: 'Q',\n",
              " 17: 'R',\n",
              " 18: 'S',\n",
              " 19: 'T',\n",
              " 20: 'U',\n",
              " 21: 'V',\n",
              " 22: 'W',\n",
              " 23: 'X',\n",
              " 24: 'Y',\n",
              " 25: 'Z'}"
            ]
          },
          "metadata": {},
          "execution_count": 16
        }
      ]
    },
    {
      "cell_type": "code",
      "source": [
        "#neural network needs data in numerical form\n",
        "#now make one more dictionary\n",
        "char_to_int = dict((c, i) for i, c in enumerate(alphabets))"
      ],
      "metadata": {
        "id": "SNljhjZ8Zs2w"
      },
      "execution_count": 19,
      "outputs": []
    },
    {
      "cell_type": "code",
      "source": [
        "char_to_int"
      ],
      "metadata": {
        "colab": {
          "base_uri": "https://localhost:8080/"
        },
        "id": "2z-awcFQaRZ-",
        "outputId": "a06efdcf-252a-4d90-9560-1937aaab4119"
      },
      "execution_count": 20,
      "outputs": [
        {
          "output_type": "execute_result",
          "data": {
            "text/plain": [
              "{'A': 0,\n",
              " 'B': 1,\n",
              " 'C': 2,\n",
              " 'D': 3,\n",
              " 'E': 4,\n",
              " 'F': 5,\n",
              " 'G': 6,\n",
              " 'H': 7,\n",
              " 'I': 8,\n",
              " 'J': 9,\n",
              " 'K': 10,\n",
              " 'L': 11,\n",
              " 'M': 12,\n",
              " 'N': 13,\n",
              " 'O': 14,\n",
              " 'P': 15,\n",
              " 'Q': 16,\n",
              " 'R': 17,\n",
              " 'S': 18,\n",
              " 'T': 19,\n",
              " 'U': 20,\n",
              " 'V': 21,\n",
              " 'W': 22,\n",
              " 'X': 23,\n",
              " 'Y': 24,\n",
              " 'Z': 25}"
            ]
          },
          "metadata": {},
          "execution_count": 20
        }
      ]
    },
    {
      "cell_type": "code",
      "source": [
        "#now x and y 1 is input 2 is op, 3 is ip, 4 is op\n",
        "#make a for loop"
      ],
      "metadata": {
        "id": "HYPlDLO6a0fF"
      },
      "execution_count": 21,
      "outputs": []
    },
    {
      "cell_type": "code",
      "source": [
        "seq_length =1\n",
        "x=[]\n",
        "y=[]\n",
        "\n",
        "for i in range(len(alphabets) -1):\n",
        "  seq_in = alphabets[i:i+seq_length]\n",
        "  seq_out = alphabets [i+seq_length]\n",
        "  print(seq_in, '->', seq_out)"
      ],
      "metadata": {
        "colab": {
          "base_uri": "https://localhost:8080/"
        },
        "id": "5qSMtMqBbDVc",
        "outputId": "8ae81cf9-0f29-4aa3-f4ad-41c229f22cfb"
      },
      "execution_count": 22,
      "outputs": [
        {
          "output_type": "stream",
          "name": "stdout",
          "text": [
            "A -> B\n",
            "B -> C\n",
            "C -> D\n",
            "D -> E\n",
            "E -> F\n",
            "F -> G\n",
            "G -> H\n",
            "H -> I\n",
            "I -> J\n",
            "J -> K\n",
            "K -> L\n",
            "L -> M\n",
            "M -> N\n",
            "N -> O\n",
            "O -> P\n",
            "P -> Q\n",
            "Q -> R\n",
            "R -> S\n",
            "S -> T\n",
            "T -> U\n",
            "U -> V\n",
            "V -> W\n",
            "W -> X\n",
            "X -> Y\n",
            "Y -> Z\n"
          ]
        }
      ]
    },
    {
      "cell_type": "code",
      "source": [
        "#encode above data in numberic form\n",
        "#input in list format is needed so comvert to list\n",
        "seq_length =1\n",
        "x=[]\n",
        "y=[]\n",
        "\n",
        "for i in range(len(alphabets) -1):\n",
        "  seq_in = alphabets[i:i+seq_length]\n",
        "  seq_out = alphabets [i+seq_length]\n",
        "  print(seq_in, '->', seq_out)\n",
        "  x.append ([char_to_int [char] for char in seq_in]) #make input as  a list\n",
        "  y.append (char_to_int[seq_out]) #make o/p it a list"
      ],
      "metadata": {
        "colab": {
          "base_uri": "https://localhost:8080/"
        },
        "id": "iUBz-vo3bq5u",
        "outputId": "b9870ec6-6358-45b0-a5f7-ee996271491c"
      },
      "execution_count": 25,
      "outputs": [
        {
          "output_type": "stream",
          "name": "stdout",
          "text": [
            "A -> B\n",
            "B -> C\n",
            "C -> D\n",
            "D -> E\n",
            "E -> F\n",
            "F -> G\n",
            "G -> H\n",
            "H -> I\n",
            "I -> J\n",
            "J -> K\n",
            "K -> L\n",
            "L -> M\n",
            "M -> N\n",
            "N -> O\n",
            "O -> P\n",
            "P -> Q\n",
            "Q -> R\n",
            "R -> S\n",
            "S -> T\n",
            "T -> U\n",
            "U -> V\n",
            "V -> W\n",
            "W -> X\n",
            "X -> Y\n",
            "Y -> Z\n"
          ]
        }
      ]
    },
    {
      "cell_type": "code",
      "source": [
        "x #made numerical"
      ],
      "metadata": {
        "colab": {
          "base_uri": "https://localhost:8080/"
        },
        "id": "D2wSg9_ycHPV",
        "outputId": "4e6c1ff8-e68d-4b85-cc8c-945e0ff77c6c"
      },
      "execution_count": 28,
      "outputs": [
        {
          "output_type": "execute_result",
          "data": {
            "text/plain": [
              "[[0],\n",
              " [1],\n",
              " [2],\n",
              " [3],\n",
              " [4],\n",
              " [5],\n",
              " [6],\n",
              " [7],\n",
              " [8],\n",
              " [9],\n",
              " [10],\n",
              " [11],\n",
              " [12],\n",
              " [13],\n",
              " [14],\n",
              " [15],\n",
              " [16],\n",
              " [17],\n",
              " [18],\n",
              " [19],\n",
              " [20],\n",
              " [21],\n",
              " [22],\n",
              " [23],\n",
              " [24]]"
            ]
          },
          "metadata": {},
          "execution_count": 28
        }
      ]
    },
    {
      "cell_type": "code",
      "source": [
        "y #make numerical"
      ],
      "metadata": {
        "colab": {
          "base_uri": "https://localhost:8080/"
        },
        "id": "tc8ryvHSd1iB",
        "outputId": "329e5782-c09d-4ee1-a4a9-a1da1168973b"
      },
      "execution_count": 29,
      "outputs": [
        {
          "output_type": "execute_result",
          "data": {
            "text/plain": [
              "[1,\n",
              " 2,\n",
              " 3,\n",
              " 4,\n",
              " 5,\n",
              " 6,\n",
              " 7,\n",
              " 8,\n",
              " 9,\n",
              " 10,\n",
              " 11,\n",
              " 12,\n",
              " 13,\n",
              " 14,\n",
              " 15,\n",
              " 16,\n",
              " 17,\n",
              " 18,\n",
              " 19,\n",
              " 20,\n",
              " 21,\n",
              " 22,\n",
              " 23,\n",
              " 24,\n",
              " 25]"
            ]
          },
          "metadata": {},
          "execution_count": 29
        }
      ]
    },
    {
      "cell_type": "code",
      "source": [
        "#we need data in numbr of rows, how many characters are there in one row?\n",
        "#need to reshpae the data using numpy - requirement of neural network"
      ],
      "metadata": {
        "id": "drXwlE6ud9Vr"
      },
      "execution_count": 34,
      "outputs": []
    },
    {
      "cell_type": "code",
      "source": [
        "import numpy as np"
      ],
      "metadata": {
        "id": "XLXZNsLPej5-"
      },
      "execution_count": 35,
      "outputs": []
    },
    {
      "cell_type": "code",
      "source": [
        "X = np.reshape(x, (len(x), seq_length, 1))"
      ],
      "metadata": {
        "id": "-BcIgoQoel2Z"
      },
      "execution_count": 36,
      "outputs": []
    },
    {
      "cell_type": "code",
      "source": [
        "X.shape"
      ],
      "metadata": {
        "colab": {
          "base_uri": "https://localhost:8080/"
        },
        "id": "toqCkTBOe2Ms",
        "outputId": "57b1720e-d632-4404-e46e-11418f160b49"
      },
      "execution_count": 37,
      "outputs": [
        {
          "output_type": "execute_result",
          "data": {
            "text/plain": [
              "(25, 1, 1)"
            ]
          },
          "metadata": {},
          "execution_count": 37
        }
      ]
    },
    {
      "cell_type": "code",
      "source": [
        "X"
      ],
      "metadata": {
        "colab": {
          "base_uri": "https://localhost:8080/"
        },
        "id": "FeHe0iFFe3Si",
        "outputId": "ee4c0fce-7a41-48ab-fff0-722827a2ad1b"
      },
      "execution_count": 38,
      "outputs": [
        {
          "output_type": "execute_result",
          "data": {
            "text/plain": [
              "array([[[ 0]],\n",
              "\n",
              "       [[ 1]],\n",
              "\n",
              "       [[ 2]],\n",
              "\n",
              "       [[ 3]],\n",
              "\n",
              "       [[ 4]],\n",
              "\n",
              "       [[ 5]],\n",
              "\n",
              "       [[ 6]],\n",
              "\n",
              "       [[ 7]],\n",
              "\n",
              "       [[ 8]],\n",
              "\n",
              "       [[ 9]],\n",
              "\n",
              "       [[10]],\n",
              "\n",
              "       [[11]],\n",
              "\n",
              "       [[12]],\n",
              "\n",
              "       [[13]],\n",
              "\n",
              "       [[14]],\n",
              "\n",
              "       [[15]],\n",
              "\n",
              "       [[16]],\n",
              "\n",
              "       [[17]],\n",
              "\n",
              "       [[18]],\n",
              "\n",
              "       [[19]],\n",
              "\n",
              "       [[20]],\n",
              "\n",
              "       [[21]],\n",
              "\n",
              "       [[22]],\n",
              "\n",
              "       [[23]],\n",
              "\n",
              "       [[24]]])"
            ]
          },
          "metadata": {},
          "execution_count": 38
        }
      ]
    },
    {
      "cell_type": "code",
      "source": [
        "#output data is also in number format - required to be in categorical and expanded form"
      ],
      "metadata": {
        "id": "e2tDsvz9fOGx"
      },
      "execution_count": 39,
      "outputs": []
    },
    {
      "cell_type": "code",
      "source": [
        "#shift data in the range of 0 to 1 without changing ....use method numerical"
      ],
      "metadata": {
        "id": "NJRC70cHfm_L"
      },
      "execution_count": 40,
      "outputs": []
    },
    {
      "cell_type": "code",
      "source": [
        "a = np.array([7, 3, 0, 2, 4, 8, 5]) # scle the data in range 0 to 1"
      ],
      "metadata": {
        "id": "Hgx8vh4Ofxma"
      },
      "execution_count": 43,
      "outputs": []
    },
    {
      "cell_type": "code",
      "source": [
        "a/8 #technique used in machine learning to speed up , divide by the highest number that is 8"
      ],
      "metadata": {
        "colab": {
          "base_uri": "https://localhost:8080/"
        },
        "id": "63XeNIJdf7ZE",
        "outputId": "ab5a6ba6-66c4-419c-92b5-76266753efcd"
      },
      "execution_count": 45,
      "outputs": [
        {
          "output_type": "execute_result",
          "data": {
            "text/plain": [
              "array([0.875, 0.375, 0.   , 0.25 , 0.5  , 1.   , 0.625])"
            ]
          },
          "metadata": {},
          "execution_count": 45
        }
      ]
    },
    {
      "cell_type": "code",
      "source": [
        "#scale x\n",
        "X =X/25"
      ],
      "metadata": {
        "id": "PHVgpojYf8z7"
      },
      "execution_count": 48,
      "outputs": []
    },
    {
      "cell_type": "code",
      "source": [
        "X"
      ],
      "metadata": {
        "colab": {
          "base_uri": "https://localhost:8080/"
        },
        "collapsed": true,
        "id": "VzrsxOUrgPa1",
        "outputId": "24beebbf-3541-4b32-980e-e6f525ab7b5e"
      },
      "execution_count": 49,
      "outputs": [
        {
          "output_type": "execute_result",
          "data": {
            "text/plain": [
              "array([[[0.  ]],\n",
              "\n",
              "       [[0.04]],\n",
              "\n",
              "       [[0.08]],\n",
              "\n",
              "       [[0.12]],\n",
              "\n",
              "       [[0.16]],\n",
              "\n",
              "       [[0.2 ]],\n",
              "\n",
              "       [[0.24]],\n",
              "\n",
              "       [[0.28]],\n",
              "\n",
              "       [[0.32]],\n",
              "\n",
              "       [[0.36]],\n",
              "\n",
              "       [[0.4 ]],\n",
              "\n",
              "       [[0.44]],\n",
              "\n",
              "       [[0.48]],\n",
              "\n",
              "       [[0.52]],\n",
              "\n",
              "       [[0.56]],\n",
              "\n",
              "       [[0.6 ]],\n",
              "\n",
              "       [[0.64]],\n",
              "\n",
              "       [[0.68]],\n",
              "\n",
              "       [[0.72]],\n",
              "\n",
              "       [[0.76]],\n",
              "\n",
              "       [[0.8 ]],\n",
              "\n",
              "       [[0.84]],\n",
              "\n",
              "       [[0.88]],\n",
              "\n",
              "       [[0.92]],\n",
              "\n",
              "       [[0.96]]])"
            ]
          },
          "metadata": {},
          "execution_count": 49
        }
      ]
    },
    {
      "cell_type": "code",
      "source": [
        "y"
      ],
      "metadata": {
        "colab": {
          "base_uri": "https://localhost:8080/"
        },
        "collapsed": true,
        "id": "-aqj0giWgP4R",
        "outputId": "8758b57c-c23c-42fe-9311-f5a5bea7be68"
      },
      "execution_count": 50,
      "outputs": [
        {
          "output_type": "execute_result",
          "data": {
            "text/plain": [
              "[1,\n",
              " 2,\n",
              " 3,\n",
              " 4,\n",
              " 5,\n",
              " 6,\n",
              " 7,\n",
              " 8,\n",
              " 9,\n",
              " 10,\n",
              " 11,\n",
              " 12,\n",
              " 13,\n",
              " 14,\n",
              " 15,\n",
              " 16,\n",
              " 17,\n",
              " 18,\n",
              " 19,\n",
              " 20,\n",
              " 21,\n",
              " 22,\n",
              " 23,\n",
              " 24,\n",
              " 25]"
            ]
          },
          "metadata": {},
          "execution_count": 50
        }
      ]
    },
    {
      "cell_type": "code",
      "source": [
        "#one hot encoding\n",
        "# at the last layer multi class classificaiton\n",
        "#25 classes are there  #outut layer one hot encoded"
      ],
      "metadata": {
        "id": "fBHyqQCFg7rm"
      },
      "execution_count": 52,
      "outputs": []
    },
    {
      "cell_type": "code",
      "source": [
        "a= np.array([3,0,2,3,3,1,2,3,1,0,0,2,0,0,1,2,3])"
      ],
      "metadata": {
        "id": "A9LNfFnig_En"
      },
      "execution_count": 53,
      "outputs": []
    },
    {
      "cell_type": "code",
      "source": [
        "a"
      ],
      "metadata": {
        "colab": {
          "base_uri": "https://localhost:8080/"
        },
        "id": "m71obp73hfrC",
        "outputId": "8fe0e389-0ad1-446d-a539-22ddca9ad549"
      },
      "execution_count": 54,
      "outputs": [
        {
          "output_type": "execute_result",
          "data": {
            "text/plain": [
              "array([3, 0, 2, 3, 3, 1, 2, 3, 1, 0, 0, 2, 0, 0, 1, 2, 3])"
            ]
          },
          "metadata": {},
          "execution_count": 54
        }
      ]
    },
    {
      "cell_type": "code",
      "source": [
        "from keras.utils import to_categorical"
      ],
      "metadata": {
        "id": "HRwH26oZhgOI"
      },
      "execution_count": 55,
      "outputs": []
    },
    {
      "cell_type": "code",
      "source": [
        "to_categorical(a)"
      ],
      "metadata": {
        "colab": {
          "base_uri": "https://localhost:8080/"
        },
        "id": "6nby_ZZqiIXl",
        "outputId": "4b457b53-c448-4644-e398-9bb089f6526a"
      },
      "execution_count": 56,
      "outputs": [
        {
          "output_type": "execute_result",
          "data": {
            "text/plain": [
              "array([[0., 0., 0., 1.],\n",
              "       [1., 0., 0., 0.],\n",
              "       [0., 0., 1., 0.],\n",
              "       [0., 0., 0., 1.],\n",
              "       [0., 0., 0., 1.],\n",
              "       [0., 1., 0., 0.],\n",
              "       [0., 0., 1., 0.],\n",
              "       [0., 0., 0., 1.],\n",
              "       [0., 1., 0., 0.],\n",
              "       [1., 0., 0., 0.],\n",
              "       [1., 0., 0., 0.],\n",
              "       [0., 0., 1., 0.],\n",
              "       [1., 0., 0., 0.],\n",
              "       [1., 0., 0., 0.],\n",
              "       [0., 1., 0., 0.],\n",
              "       [0., 0., 1., 0.],\n",
              "       [0., 0., 0., 1.]], dtype=float32)"
            ]
          },
          "metadata": {},
          "execution_count": 56
        }
      ]
    },
    {
      "cell_type": "code",
      "source": [
        "#do one hot encoding to y = how?\n",
        "y =to_categorical(y)"
      ],
      "metadata": {
        "id": "MuEkiun6iKiR"
      },
      "execution_count": 57,
      "outputs": []
    },
    {
      "cell_type": "code",
      "source": [
        "y"
      ],
      "metadata": {
        "colab": {
          "base_uri": "https://localhost:8080/"
        },
        "id": "JyxRclYpjmcu",
        "outputId": "7ffc6c53-f897-4398-87dc-05c71a2c4cb3"
      },
      "execution_count": 58,
      "outputs": [
        {
          "output_type": "execute_result",
          "data": {
            "text/plain": [
              "array([[0., 1., 0., 0., 0., 0., 0., 0., 0., 0., 0., 0., 0., 0., 0., 0.,\n",
              "        0., 0., 0., 0., 0., 0., 0., 0., 0., 0.],\n",
              "       [0., 0., 1., 0., 0., 0., 0., 0., 0., 0., 0., 0., 0., 0., 0., 0.,\n",
              "        0., 0., 0., 0., 0., 0., 0., 0., 0., 0.],\n",
              "       [0., 0., 0., 1., 0., 0., 0., 0., 0., 0., 0., 0., 0., 0., 0., 0.,\n",
              "        0., 0., 0., 0., 0., 0., 0., 0., 0., 0.],\n",
              "       [0., 0., 0., 0., 1., 0., 0., 0., 0., 0., 0., 0., 0., 0., 0., 0.,\n",
              "        0., 0., 0., 0., 0., 0., 0., 0., 0., 0.],\n",
              "       [0., 0., 0., 0., 0., 1., 0., 0., 0., 0., 0., 0., 0., 0., 0., 0.,\n",
              "        0., 0., 0., 0., 0., 0., 0., 0., 0., 0.],\n",
              "       [0., 0., 0., 0., 0., 0., 1., 0., 0., 0., 0., 0., 0., 0., 0., 0.,\n",
              "        0., 0., 0., 0., 0., 0., 0., 0., 0., 0.],\n",
              "       [0., 0., 0., 0., 0., 0., 0., 1., 0., 0., 0., 0., 0., 0., 0., 0.,\n",
              "        0., 0., 0., 0., 0., 0., 0., 0., 0., 0.],\n",
              "       [0., 0., 0., 0., 0., 0., 0., 0., 1., 0., 0., 0., 0., 0., 0., 0.,\n",
              "        0., 0., 0., 0., 0., 0., 0., 0., 0., 0.],\n",
              "       [0., 0., 0., 0., 0., 0., 0., 0., 0., 1., 0., 0., 0., 0., 0., 0.,\n",
              "        0., 0., 0., 0., 0., 0., 0., 0., 0., 0.],\n",
              "       [0., 0., 0., 0., 0., 0., 0., 0., 0., 0., 1., 0., 0., 0., 0., 0.,\n",
              "        0., 0., 0., 0., 0., 0., 0., 0., 0., 0.],\n",
              "       [0., 0., 0., 0., 0., 0., 0., 0., 0., 0., 0., 1., 0., 0., 0., 0.,\n",
              "        0., 0., 0., 0., 0., 0., 0., 0., 0., 0.],\n",
              "       [0., 0., 0., 0., 0., 0., 0., 0., 0., 0., 0., 0., 1., 0., 0., 0.,\n",
              "        0., 0., 0., 0., 0., 0., 0., 0., 0., 0.],\n",
              "       [0., 0., 0., 0., 0., 0., 0., 0., 0., 0., 0., 0., 0., 1., 0., 0.,\n",
              "        0., 0., 0., 0., 0., 0., 0., 0., 0., 0.],\n",
              "       [0., 0., 0., 0., 0., 0., 0., 0., 0., 0., 0., 0., 0., 0., 1., 0.,\n",
              "        0., 0., 0., 0., 0., 0., 0., 0., 0., 0.],\n",
              "       [0., 0., 0., 0., 0., 0., 0., 0., 0., 0., 0., 0., 0., 0., 0., 1.,\n",
              "        0., 0., 0., 0., 0., 0., 0., 0., 0., 0.],\n",
              "       [0., 0., 0., 0., 0., 0., 0., 0., 0., 0., 0., 0., 0., 0., 0., 0.,\n",
              "        1., 0., 0., 0., 0., 0., 0., 0., 0., 0.],\n",
              "       [0., 0., 0., 0., 0., 0., 0., 0., 0., 0., 0., 0., 0., 0., 0., 0.,\n",
              "        0., 1., 0., 0., 0., 0., 0., 0., 0., 0.],\n",
              "       [0., 0., 0., 0., 0., 0., 0., 0., 0., 0., 0., 0., 0., 0., 0., 0.,\n",
              "        0., 0., 1., 0., 0., 0., 0., 0., 0., 0.],\n",
              "       [0., 0., 0., 0., 0., 0., 0., 0., 0., 0., 0., 0., 0., 0., 0., 0.,\n",
              "        0., 0., 0., 1., 0., 0., 0., 0., 0., 0.],\n",
              "       [0., 0., 0., 0., 0., 0., 0., 0., 0., 0., 0., 0., 0., 0., 0., 0.,\n",
              "        0., 0., 0., 0., 1., 0., 0., 0., 0., 0.],\n",
              "       [0., 0., 0., 0., 0., 0., 0., 0., 0., 0., 0., 0., 0., 0., 0., 0.,\n",
              "        0., 0., 0., 0., 0., 1., 0., 0., 0., 0.],\n",
              "       [0., 0., 0., 0., 0., 0., 0., 0., 0., 0., 0., 0., 0., 0., 0., 0.,\n",
              "        0., 0., 0., 0., 0., 0., 1., 0., 0., 0.],\n",
              "       [0., 0., 0., 0., 0., 0., 0., 0., 0., 0., 0., 0., 0., 0., 0., 0.,\n",
              "        0., 0., 0., 0., 0., 0., 0., 1., 0., 0.],\n",
              "       [0., 0., 0., 0., 0., 0., 0., 0., 0., 0., 0., 0., 0., 0., 0., 0.,\n",
              "        0., 0., 0., 0., 0., 0., 0., 0., 1., 0.],\n",
              "       [0., 0., 0., 0., 0., 0., 0., 0., 0., 0., 0., 0., 0., 0., 0., 0.,\n",
              "        0., 0., 0., 0., 0., 0., 0., 0., 0., 1.]], dtype=float32)"
            ]
          },
          "metadata": {},
          "execution_count": 58
        }
      ]
    },
    {
      "cell_type": "code",
      "source": [
        "y.shape"
      ],
      "metadata": {
        "colab": {
          "base_uri": "https://localhost:8080/"
        },
        "id": "Tq0oU4bBjn13",
        "outputId": "0919807a-e826-42ac-8f57-32a00b68a390"
      },
      "execution_count": 59,
      "outputs": [
        {
          "output_type": "execute_result",
          "data": {
            "text/plain": [
              "(25, 26)"
            ]
          },
          "metadata": {},
          "execution_count": 59
        }
      ]
    },
    {
      "cell_type": "code",
      "source": [
        "X.shape"
      ],
      "metadata": {
        "colab": {
          "base_uri": "https://localhost:8080/"
        },
        "id": "jz-BfvEakWFL",
        "outputId": "b724e7ee-09ce-4c53-b6a8-64d85815525b"
      },
      "execution_count": 60,
      "outputs": [
        {
          "output_type": "execute_result",
          "data": {
            "text/plain": [
              "(25, 1, 1)"
            ]
          },
          "metadata": {},
          "execution_count": 60
        }
      ]
    },
    {
      "cell_type": "code",
      "source": [
        "X[0]"
      ],
      "metadata": {
        "colab": {
          "base_uri": "https://localhost:8080/"
        },
        "id": "X4Wk4-lbkXoZ",
        "outputId": "7263095c-9b75-4253-ee79-d272411b1a5f"
      },
      "execution_count": 62,
      "outputs": [
        {
          "output_type": "execute_result",
          "data": {
            "text/plain": [
              "array([[0.]])"
            ]
          },
          "metadata": {},
          "execution_count": 62
        }
      ]
    },
    {
      "cell_type": "code",
      "source": [
        "y[0]"
      ],
      "metadata": {
        "colab": {
          "base_uri": "https://localhost:8080/"
        },
        "id": "ciHA8PxEkZS9",
        "outputId": "29ce5222-9b6e-4a0b-917b-6f893955d20d"
      },
      "execution_count": 63,
      "outputs": [
        {
          "output_type": "execute_result",
          "data": {
            "text/plain": [
              "array([0., 1., 0., 0., 0., 0., 0., 0., 0., 0., 0., 0., 0., 0., 0., 0., 0.,\n",
              "       0., 0., 0., 0., 0., 0., 0., 0., 0.], dtype=float32)"
            ]
          },
          "metadata": {},
          "execution_count": 63
        }
      ]
    },
    {
      "cell_type": "markdown",
      "source": [
        "Build neural network"
      ],
      "metadata": {
        "id": "HtB6L5_-ky8d"
      }
    },
    {
      "cell_type": "code",
      "source": [
        "#we need to define some memory"
      ],
      "metadata": {
        "id": "FGq_JB10kdWB"
      },
      "execution_count": 64,
      "outputs": []
    },
    {
      "cell_type": "code",
      "source": [
        "from keras.models import Sequential\n",
        "from keras.layers import Dense, LSTM"
      ],
      "metadata": {
        "id": "bNcb__G6k31N"
      },
      "execution_count": 65,
      "outputs": []
    },
    {
      "cell_type": "code",
      "source": [
        "#create the object of model\n",
        "model = Sequential()\n",
        "\n",
        "#add the LSTM layer\n",
        "layer1 = LSTM(32, input_shape = (X.shape[1], X.shape[2]))\n",
        "model.add(layer1)\n",
        "\n",
        "#add outout layer\n",
        "layer2 = Dense(26, activation ='softmax')\n",
        "model.add(layer2)"
      ],
      "metadata": {
        "id": "xys9WaLhlOPb"
      },
      "execution_count": 67,
      "outputs": []
    },
    {
      "cell_type": "code",
      "source": [
        "model.summary()"
      ],
      "metadata": {
        "colab": {
          "base_uri": "https://localhost:8080/"
        },
        "id": "36wW_QM9lsmp",
        "outputId": "21772a0e-52eb-4270-d92a-a3836f95869f"
      },
      "execution_count": 68,
      "outputs": [
        {
          "output_type": "stream",
          "name": "stdout",
          "text": [
            "Model: \"sequential_1\"\n",
            "_________________________________________________________________\n",
            " Layer (type)                Output Shape              Param #   \n",
            "=================================================================\n",
            " lstm (LSTM)                 (None, 32)                4352      \n",
            "                                                                 \n",
            " dense (Dense)               (None, 26)                858       \n",
            "                                                                 \n",
            "=================================================================\n",
            "Total params: 5210 (20.35 KB)\n",
            "Trainable params: 5210 (20.35 KB)\n",
            "Non-trainable params: 0 (0.00 Byte)\n",
            "_________________________________________________________________\n"
          ]
        }
      ]
    },
    {
      "cell_type": "code",
      "source": [
        "from keras.utils import plot_model"
      ],
      "metadata": {
        "id": "l-wfHMUCnS18"
      },
      "execution_count": 69,
      "outputs": []
    },
    {
      "cell_type": "markdown",
      "source": [],
      "metadata": {
        "id": "LjVC8Px0n3cL"
      }
    },
    {
      "cell_type": "code",
      "source": [
        "plot_model(model, show_layer_activations=True, show_layer_names=True, show_shapes=True)"
      ],
      "metadata": {
        "colab": {
          "base_uri": "https://localhost:8080/",
          "height": 312
        },
        "id": "4bmspWZrnqA3",
        "outputId": "a66c1097-bd61-41fa-df5b-45b5a433bbc5"
      },
      "execution_count": 70,
      "outputs": [
        {
          "output_type": "execute_result",
          "data": {
            "image/png": "[encoded data removed]",
            "text/plain": [
              "<IPython.core.display.Image object>"
            ]
          },
          "metadata": {},
          "execution_count": 70
        }
      ]
    },
    {
      "cell_type": "code",
      "source": [],
      "metadata": {
        "id": "4BIae-NFn0WH"
      },
      "execution_count": null,
      "outputs": []
    }
  ]
}