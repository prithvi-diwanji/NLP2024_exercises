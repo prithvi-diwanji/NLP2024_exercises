{
  "nbformat": 4,
  "nbformat_minor": 0,
  "metadata": {
    "colab": {
      "provenance": [],
      "authorship_tag": "ABX9TyPxtmBSXdq1SGHXgFJR5Msb",
      "include_colab_link": true
    },
    "kernelspec": {
      "name": "python3",
      "display_name": "Python 3"
    },
    "language_info": {
      "name": "python"
    }
  },
  "cells": [
    {
      "cell_type": "markdown",
      "metadata": {
        "id": "view-in-github",
        "colab_type": "text"
      },
      "source": [
        "<a href=\"https://colab.research.google.com/github/prithvi-diwanji/NLP2024_exercises/blob/main/7_text_clustering.ipynb\" target=\"_parent\"><img src=\"https://colab.research.google.com/assets/colab-badge.svg\" alt=\"Open In Colab\"/></a>"
      ]
    },
    {
      "cell_type": "code",
      "execution_count": 1,
      "metadata": {
        "id": "HSmZUREUjIaz"
      },
      "outputs": [],
      "source": [
        "#headlines.csv - import it\n",
        "#location: https://mitu.co.in/dataset\n"
      ]
    },
    {
      "cell_type": "code",
      "source": [
        "#import the libraries"
      ],
      "metadata": {
        "id": "KDPc7ETujz5-"
      },
      "execution_count": 2,
      "outputs": []
    },
    {
      "cell_type": "code",
      "source": [
        "import pandas as pd\n",
        "import seaborn as sns\n",
        "import matplotlib.pyplot as plt"
      ],
      "metadata": {
        "id": "op7UrgbDj2Vx"
      },
      "execution_count": 3,
      "outputs": []
    },
    {
      "cell_type": "code",
      "source": [],
      "metadata": {
        "id": "29IPZEHpkAVs"
      },
      "execution_count": null,
      "outputs": []
    }
  ]
}